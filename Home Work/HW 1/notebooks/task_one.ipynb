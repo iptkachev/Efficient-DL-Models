{
  "cells": [
    {
      "cell_type": "markdown",
      "metadata": {
        "id": "P1da2SfM2_O9"
      },
      "source": [
        "# Домашняя работа часть 1  (20 баллов): анализ падения точности LLM после квантизации и спарсификации\n",
        "\n",
        "\n",
        "В этом задании вам предстоит проанализировать популярные методы компресии больших языковых моделей, среди которых QUIK, Wanda и SparseGPT, комбинация SparseGPT и GPTQ\n",
        "\n",
        "В качестве языковой модели будет использована модель opt-350m.\n",
        "\n",
        "Результат задания: Построить 8 графиков (по одному для каждого из 4 методов компресии и двух тестовых датасетов) зависимости точности модели от уровня сжатия в 0, 2 и 4 раза.\n",
        "\n",
        "В виде решения нужно будет сдать ноутбук с построенными графиками и выводами, в частности ответить на вопрос какой метод компрессии выбрать для сохранения наилучшего качества.\n"
      ]
    },
    {
      "cell_type": "markdown",
      "metadata": {
        "id": "AV3IRNDy28hR"
      },
      "source": [
        "## Подготовка окружения"
      ]
    },
    {
      "cell_type": "code",
      "execution_count": 1,
      "metadata": {
        "id": "Okd5YfuDPhXh",
        "colab": {
          "base_uri": "https://localhost:8080/"
        },
        "outputId": "0782c4b8-815a-47d2-c0ee-0fcacc7145b6"
      },
      "outputs": [
        {
          "output_type": "stream",
          "name": "stdout",
          "text": [
            "\u001b[2K     \u001b[90m━━━━━━━━━━━━━━━━━━━━━━━━━━━━━━━━━━━━━━━━\u001b[0m \u001b[32m44.0/44.0 kB\u001b[0m \u001b[31m3.3 MB/s\u001b[0m eta \u001b[36m0:00:00\u001b[0m\n",
            "\u001b[?25h  Preparing metadata (setup.py) ... \u001b[?25l\u001b[?25hdone\n",
            "\u001b[2K     \u001b[90m━━━━━━━━━━━━━━━━━━━━━━━━━━━━━━━━━━━━━━━━\u001b[0m \u001b[32m51.8/51.8 kB\u001b[0m \u001b[31m4.5 MB/s\u001b[0m eta \u001b[36m0:00:00\u001b[0m\n",
            "\u001b[?25h  Preparing metadata (setup.py) ... \u001b[?25l\u001b[?25hdone\n",
            "  Preparing metadata (setup.py) ... \u001b[?25l\u001b[?25hdone\n",
            "\u001b[2K   \u001b[90m━━━━━━━━━━━━━━━━━━━━━━━━━━━━━━━━━━━━━━━━\u001b[0m \u001b[32m480.6/480.6 kB\u001b[0m \u001b[31m31.6 MB/s\u001b[0m eta \u001b[36m0:00:00\u001b[0m\n",
            "\u001b[2K   \u001b[90m━━━━━━━━━━━━━━━━━━━━━━━━━━━━━━━━━━━━━━━━\u001b[0m \u001b[32m336.3/336.3 kB\u001b[0m \u001b[31m23.6 MB/s\u001b[0m eta \u001b[36m0:00:00\u001b[0m\n",
            "\u001b[2K   \u001b[90m━━━━━━━━━━━━━━━━━━━━━━━━━━━━━━━━━━━━━━━━\u001b[0m \u001b[32m2.4/2.4 MB\u001b[0m \u001b[31m35.8 MB/s\u001b[0m eta \u001b[36m0:00:00\u001b[0m\n",
            "\u001b[2K   \u001b[90m━━━━━━━━━━━━━━━━━━━━━━━━━━━━━━━━━━━━━━━━\u001b[0m \u001b[32m116.3/116.3 kB\u001b[0m \u001b[31m10.1 MB/s\u001b[0m eta \u001b[36m0:00:00\u001b[0m\n",
            "\u001b[2K   \u001b[90m━━━━━━━━━━━━━━━━━━━━━━━━━━━━━━━━━━━━━━━━\u001b[0m \u001b[32m84.0/84.0 kB\u001b[0m \u001b[31m7.4 MB/s\u001b[0m eta \u001b[36m0:00:00\u001b[0m\n",
            "\u001b[2K   \u001b[90m━━━━━━━━━━━━━━━━━━━━━━━━━━━━━━━━━━━━━━━━\u001b[0m \u001b[32m179.3/179.3 kB\u001b[0m \u001b[31m15.9 MB/s\u001b[0m eta \u001b[36m0:00:00\u001b[0m\n",
            "\u001b[2K   \u001b[90m━━━━━━━━━━━━━━━━━━━━━━━━━━━━━━━━━━━━━━━━\u001b[0m \u001b[32m134.8/134.8 kB\u001b[0m \u001b[31m10.5 MB/s\u001b[0m eta \u001b[36m0:00:00\u001b[0m\n",
            "\u001b[2K   \u001b[90m━━━━━━━━━━━━━━━━━━━━━━━━━━━━━━━━━━━━━━━━\u001b[0m \u001b[32m243.3/243.3 kB\u001b[0m \u001b[31m19.3 MB/s\u001b[0m eta \u001b[36m0:00:00\u001b[0m\n",
            "\u001b[2K   \u001b[90m━━━━━━━━━━━━━━━━━━━━━━━━━━━━━━━━━━━━━━━━\u001b[0m \u001b[32m104.0/104.0 kB\u001b[0m \u001b[31m9.3 MB/s\u001b[0m eta \u001b[36m0:00:00\u001b[0m\n",
            "\u001b[2K   \u001b[90m━━━━━━━━━━━━━━━━━━━━━━━━━━━━━━━━━━━━━━━━\u001b[0m \u001b[32m111.1/111.1 kB\u001b[0m \u001b[31m10.5 MB/s\u001b[0m eta \u001b[36m0:00:00\u001b[0m\n",
            "\u001b[2K   \u001b[90m━━━━━━━━━━━━━━━━━━━━━━━━━━━━━━━━━━━━━━━━\u001b[0m \u001b[32m194.1/194.1 kB\u001b[0m \u001b[31m13.7 MB/s\u001b[0m eta \u001b[36m0:00:00\u001b[0m\n",
            "\u001b[2K   \u001b[90m━━━━━━━━━━━━━━━━━━━━━━━━━━━━━━━━━━━━━━━━\u001b[0m \u001b[32m5.4/5.4 MB\u001b[0m \u001b[31m70.1 MB/s\u001b[0m eta \u001b[36m0:00:00\u001b[0m\n",
            "\u001b[?25h  Building wheel for rouge-score (setup.py) ... \u001b[?25l\u001b[?25hdone\n",
            "  Building wheel for sqlitedict (setup.py) ... \u001b[?25l\u001b[?25hdone\n",
            "  Building wheel for word2number (setup.py) ... \u001b[?25l\u001b[?25hdone\n",
            "\u001b[31mERROR: pip's dependency resolver does not currently take into account all the packages that are installed. This behaviour is the source of the following dependency conflicts.\n",
            "gcsfs 2024.10.0 requires fsspec==2024.10.0, but you have fsspec 2024.9.0 which is incompatible.\u001b[0m\u001b[31m\n",
            "\u001b[0m"
          ]
        }
      ],
      "source": [
        "!pip install -U -q datasets accelerate lm-eval"
      ]
    },
    {
      "cell_type": "code",
      "execution_count": 2,
      "metadata": {
        "id": "sSeSzWMyFH1k"
      },
      "outputs": [],
      "source": [
        "!mkdir spars_quant"
      ]
    },
    {
      "cell_type": "code",
      "execution_count": 3,
      "metadata": {
        "colab": {
          "base_uri": "https://localhost:8080/"
        },
        "id": "s3PFbThAFH1k",
        "outputId": "39786697-2f37-487e-f74f-1b253633468a"
      },
      "outputs": [
        {
          "output_type": "stream",
          "name": "stdout",
          "text": [
            "/content/spars_quant\n"
          ]
        }
      ],
      "source": [
        "%cd ./spars_quant"
      ]
    },
    {
      "cell_type": "code",
      "execution_count": 4,
      "metadata": {
        "colab": {
          "base_uri": "https://localhost:8080/"
        },
        "id": "tWrXNxq-FH1l",
        "outputId": "0435935b-92e6-41ce-827f-ec17ae07c2b3"
      },
      "outputs": [
        {
          "output_type": "stream",
          "name": "stdout",
          "text": [
            "\u001b[33mhint: Using 'master' as the name for the initial branch. This default branch name\u001b[m\n",
            "\u001b[33mhint: is subject to change. To configure the initial branch name to use in all\u001b[m\n",
            "\u001b[33mhint: of your new repositories, which will suppress this warning, call:\u001b[m\n",
            "\u001b[33mhint: \u001b[m\n",
            "\u001b[33mhint: \tgit config --global init.defaultBranch <name>\u001b[m\n",
            "\u001b[33mhint: \u001b[m\n",
            "\u001b[33mhint: Names commonly chosen instead of 'master' are 'main', 'trunk' and\u001b[m\n",
            "\u001b[33mhint: 'development'. The just-created branch can be renamed via this command:\u001b[m\n",
            "\u001b[33mhint: \u001b[m\n",
            "\u001b[33mhint: \tgit branch -m <name>\u001b[m\n",
            "Initialized empty Git repository in /content/spars_quant/.git/\n",
            "Updating origin\n",
            "remote: Enumerating objects: 498, done.\u001b[K\n",
            "remote: Counting objects: 100% (188/188), done.\u001b[K\n",
            "remote: Compressing objects: 100% (127/127), done.\u001b[K\n",
            "remote: Total 498 (delta 51), reused 167 (delta 44), pack-reused 310 (from 1)\u001b[K\n",
            "Receiving objects: 100% (498/498), 518.78 MiB | 17.37 MiB/s, done.\n",
            "Resolving deltas: 100% (126/126), done.\n",
            "From https://github.com/On-Point-RND/Efficient-DL-models-Seminars\n",
            " * [new branch]      master     -> origin/master\n",
            "From https://github.com/On-Point-RND/Efficient-DL-models-Seminars\n",
            " * branch            master     -> FETCH_HEAD\n"
          ]
        }
      ],
      "source": [
        "!git init\n",
        "!git remote add -f origin https://github.com/On-Point-RND/Efficient-DL-models-Seminars.git\n",
        "!git config core.sparseCheckout true\n",
        "!echo \"Home Work/HW 1\" >> .git/info/sparse-checkout\n",
        "!git pull origin master"
      ]
    },
    {
      "cell_type": "code",
      "execution_count": 10,
      "metadata": {
        "colab": {
          "base_uri": "https://localhost:8080/"
        },
        "id": "CmjacKaGFH1l",
        "outputId": "9c32a457-00e5-4ef4-c8ce-195bd454f5bd"
      },
      "outputs": [
        {
          "output_type": "stream",
          "name": "stdout",
          "text": [
            "/content\n"
          ]
        }
      ],
      "source": [
        "%cd /content"
      ]
    },
    {
      "cell_type": "code",
      "execution_count": 6,
      "metadata": {
        "id": "vzTkTQvR3QTn"
      },
      "outputs": [],
      "source": [
        "import os\n",
        "SAVING_DIR = '/content/'\n",
        "os.environ[\"TRANSFORMERS_CACHE\"] = SAVING_DIR + \"hf_cache/\"\n",
        "os.environ[\"HF_HOME\"] = SAVING_DIR + \"hf_cache/\""
      ]
    },
    {
      "cell_type": "markdown",
      "metadata": {
        "id": "t3izCW0_CjeV"
      },
      "source": [
        "## Загрузка модели"
      ]
    },
    {
      "cell_type": "markdown",
      "metadata": {
        "id": "C6QqJ0l8Cm9l"
      },
      "source": [
        "https://huggingface.co/facebook/opt-350m <br>\n",
        "\n",
        "OPT: Open Pre-trained Transformer Language Models <br>\n",
        "Семейство моделей с архитектурой GPT-трансформера, выпущенные в начале 2022 года. Обучение моделей выполнялось на корпусах, состоящих преимущественно из текстов на английском языке."
      ]
    },
    {
      "cell_type": "code",
      "execution_count": 7,
      "metadata": {
        "colab": {
          "base_uri": "https://localhost:8080/"
        },
        "id": "966rnVeL51bR",
        "outputId": "d80df48e-ea5f-4439-c5fb-fcfd09333f8b"
      },
      "outputs": [
        {
          "output_type": "stream",
          "name": "stdout",
          "text": [
            "Cloning into 'opt-350m'...\n",
            "remote: Enumerating objects: 115, done.\u001b[K\n",
            "remote: Total 115 (delta 0), reused 0 (delta 0), pack-reused 115 (from 1)\u001b[K\n",
            "Receiving objects: 100% (115/115), 558.77 KiB | 1.19 MiB/s, done.\n",
            "Resolving deltas: 100% (59/59), done.\n",
            "Filtering content: 100% (3/3), 1.85 GiB | 42.71 MiB/s, done.\n"
          ]
        }
      ],
      "source": [
        "!git clone https://huggingface.co/facebook/opt-350m"
      ]
    },
    {
      "cell_type": "markdown",
      "metadata": {
        "id": "r3dL56NJH6cy"
      },
      "source": [
        "## lm-evaluation-harness <br>\n",
        "\n",
        "https://github.com/EleutherAI/lm-evaluation-harness/ <br>\n",
        "\n",
        "harness - единый фреймворк для тестирования эффективности языковых модели на большом количестве различных заданий. <br>"
      ]
    },
    {
      "cell_type": "markdown",
      "metadata": {
        "id": "Tq7H9U8lTE2G"
      },
      "source": [
        "https://huggingface.co/datasets/winogrande <br>\n",
        "\n",
        "WinoGrande - коллекция из 44 тыс. вопросов, вдохновленная Winograd Schema Challenge (Левеск, Дэвис и Моргенштерн, 2011). Каждый вопрос формулируется в виде тестового задания с двумя ответами. Цель выбрать правильный ответ, что требует рассуждений на основе здравого смысла."
      ]
    },
    {
      "cell_type": "markdown",
      "metadata": {
        "id": "n3uDU9hZTOJd"
      },
      "source": [
        "<img src=\"https://github.com/iptkachev/Efficient-DL-Models/blob/master/Home%20Work/HW%201/notebooks/images/winogrande.png?raw=1\">"
      ]
    },
    {
      "cell_type": "markdown",
      "metadata": {
        "id": "sgaASPLmTygf"
      },
      "source": [
        "https://huggingface.co/datasets/google/boolq\n",
        "\n",
        "BoolQ - набор из 15942 заданий с ответами \"да\"/\"нет\" на вопросы, которые формулируются на основе отрывка текста."
      ]
    },
    {
      "cell_type": "markdown",
      "metadata": {
        "id": "JYH5OTlHTZdN"
      },
      "source": [
        "<img  src=\"https://github.com/iptkachev/Efficient-DL-Models/blob/master/Home%20Work/HW%201/notebooks/images/boolq.png?raw=1\">"
      ]
    },
    {
      "cell_type": "code",
      "execution_count": null,
      "metadata": {
        "colab": {
          "base_uri": "https://localhost:8080/"
        },
        "id": "ItamzBY8HVf3",
        "outputId": "3573c361-3bca-4e69-c389-fa097efd2938"
      },
      "outputs": [
        {
          "output_type": "stream",
          "name": "stdout",
          "text": [
            "/usr/local/lib/python3.10/dist-packages/transformers/utils/hub.py:128: FutureWarning: Using `TRANSFORMERS_CACHE` is deprecated and will be removed in v5 of Transformers. Use `HF_HOME` instead.\n",
            "  warnings.warn(\n",
            "2024-12-01 16:53:00.539492: E external/local_xla/xla/stream_executor/cuda/cuda_fft.cc:485] Unable to register cuFFT factory: Attempting to register factory for plugin cuFFT when one has already been registered\n",
            "2024-12-01 16:53:00.558700: E external/local_xla/xla/stream_executor/cuda/cuda_dnn.cc:8454] Unable to register cuDNN factory: Attempting to register factory for plugin cuDNN when one has already been registered\n",
            "2024-12-01 16:53:00.564529: E external/local_xla/xla/stream_executor/cuda/cuda_blas.cc:1452] Unable to register cuBLAS factory: Attempting to register factory for plugin cuBLAS when one has already been registered\n",
            "2024-12-01 16:53:00.578302: I tensorflow/core/platform/cpu_feature_guard.cc:210] This TensorFlow binary is optimized to use available CPU instructions in performance-critical operations.\n",
            "To enable the following instructions: AVX2 AVX512F FMA, in other operations, rebuild TensorFlow with the appropriate compiler flags.\n",
            "2024-12-01 16:53:01.698494: W tensorflow/compiler/tf2tensorrt/utils/py_utils.cc:38] TF-TRT Warning: Could not find TensorRT\n",
            "2024-12-01:16:53:03,541 INFO     [__main__.py:279] Verbosity set to INFO\n",
            "2024-12-01:16:53:13,823 INFO     [__init__.py:459] The tag 'arc_ca' is already registered as a group, this tag will not be registered. This may affect tasks you want to call.\n",
            "2024-12-01:16:53:13,850 INFO     [__init__.py:459] The tag 'arc_ca' is already registered as a group, this tag will not be registered. This may affect tasks you want to call.\n",
            "2024-12-01:16:53:14,134 INFO     [__main__.py:376] Selected Tasks: ['boolq', 'winogrande']\n",
            "2024-12-01:16:53:14,136 INFO     [evaluator.py:164] Setting random seed to 0 | Setting numpy seed to 1234 | Setting torch manual seed to 1234 | Setting fewshot manual seed to 1234\n",
            "2024-12-01:16:53:14,136 INFO     [evaluator.py:201] Initializing hf model, with arguments: {'pretrained': '/content/opt-350m'}\n",
            "2024-12-01:16:53:14,193 INFO     [huggingface.py:129] Using device 'cuda'\n",
            "2024-12-01:16:53:14,195 INFO     [huggingface.py:481] Using model type 'default'\n",
            "2024-12-01:16:53:14,333 INFO     [huggingface.py:365] Model parallel was set to False, max memory was not set, and device map was set to {'': 'cuda'}\n",
            "2024-12-01:16:53:15,239 WARNING  [task.py:799] [Task: boolq] metric acc is defined, but aggregation is not. using default aggregation=mean\n",
            "2024-12-01:16:53:15,239 WARNING  [task.py:811] [Task: boolq] metric acc is defined, but higher_is_better is not. using default higher_is_better=True\n",
            "README.md: 100% 18.2k/18.2k [00:00<00:00, 82.8MB/s]\n",
            "super_glue.py: 100% 30.7k/30.7k [00:00<00:00, 93.6MB/s]\n",
            "README.md: 100% 9.97k/9.97k [00:00<00:00, 47.7MB/s]\n",
            "winogrande.py: 100% 5.65k/5.65k [00:00<00:00, 29.6MB/s]\n",
            "Downloading data: 100% 3.40M/3.40M [00:00<00:00, 138MB/s]\n",
            "Generating train split: 100% 40398/40398 [00:02<00:00, 14526.55 examples/s]\n",
            "Generating test split: 100% 1767/1767 [00:00<00:00, 24322.27 examples/s]\n",
            "Generating validation split: 100% 1267/1267 [00:00<00:00, 25888.12 examples/s]\n",
            "2024-12-01:16:53:22,919 WARNING  [evaluator.py:270] Overwriting default num_fewshot of winogrande from None to 0\n",
            "2024-12-01:16:53:22,919 WARNING  [evaluator.py:270] Overwriting default num_fewshot of boolq from None to 0\n",
            "2024-12-01:16:53:22,919 WARNING  [model.py:422] model.chat_template was called with the chat_template set to False or None. Therefore no chat template will be applied. Make sure this is an intended behavior.\n",
            "2024-12-01:16:53:22,920 INFO     [task.py:415] Building contexts for winogrande on rank 0...\n",
            "100% 1267/1267 [00:00<00:00, 85343.73it/s]\n",
            "2024-12-01:16:53:22,976 INFO     [task.py:415] Building contexts for boolq on rank 0...\n",
            "100% 3270/3270 [00:01<00:00, 1867.05it/s]\n",
            "2024-12-01:16:53:24,845 INFO     [evaluator.py:489] Running loglikelihood requests\n",
            "Running loglikelihood requests: 100% 9074/9074 [00:31<00:00, 286.29it/s]\n",
            "2024-12-01:16:54:02,837 WARNING  [huggingface.py:1353] Failed to get model SHA for /content/opt-350m at revision main. Error: Repo id must be in the form 'repo_name' or 'namespace/repo_name': '/content/opt-350m'. Use `repo_type` argument if needed.\n",
            "fatal: not a git repository (or any of the parent directories): .git\n",
            "2024-12-01:16:54:04,847 INFO     [evaluation_tracker.py:269] Output path not provided, skipping saving results aggregated\n",
            "hf (pretrained=/content/opt-350m), gen_kwargs: (None), limit: None, num_fewshot: 0, batch_size: 4\n",
            "|  Tasks   |Version|Filter|n-shot|Metric|   |Value |   |Stderr|\n",
            "|----------|------:|------|-----:|------|---|-----:|---|-----:|\n",
            "|boolq     |      2|none  |     0|acc   |↑  |0.5771|±  |0.0086|\n",
            "|winogrande|      1|none  |     0|acc   |↑  |0.5225|±  |0.0140|\n",
            "\n"
          ]
        }
      ],
      "source": [
        "!lm_eval --model hf \\\n",
        "--model_args \"pretrained=/content/opt-350m\" \\\n",
        "--tasks winogrande,boolq \\\n",
        "--batch_size 4 \\\n",
        "--num_fewshot 0 \\\n",
        "--device cuda \\\n",
        "--trust_remote_code"
      ]
    },
    {
      "cell_type": "markdown",
      "metadata": {
        "id": "w07cmytIFESp"
      },
      "source": [
        "## Метод квантизации QUIK <br>\n",
        "\n",
        "https://github.com/IST-DASLab/QUIK/tree/master <br>\n",
        "https://arxiv.org/pdf/2310.09259.pdf <br>\n",
        "\n",
        "<img src=\"https://github.com/iptkachev/Efficient-DL-Models/blob/master/Home%20Work/HW%201/notebooks/images/quik.png?raw=1\">\n",
        "\n",
        "Метод GPTQ выполняет послойную квантизацию модели с компенсацией ошибки квантизации путем обновления еще не квантизованных весов. <br>\n",
        "Для каждого линейного слоя матрица весов $\\mathbf{W}$ квантизуется последовательно по столбцам, при этом еще не квантизованные веса обновляются, чтобы компенсировать возникшую ошибку:\n",
        "\n",
        "$\\begin{equation}\n",
        "\\mathbf{W}_{update} = \\mathbf{W} + \\delta \\mathbf{W} = \\mathbf{W} + \\dfrac{(\\tilde{\\mathbf{W}}_{m} - \\mathbf{W}_{m})}{[\\mathbf{H}^{-1}]_{mm}} \\mathbf{H}^{-1}_{:, m}, \\quad \\mathbf{H} = \\mathbf{X}\\mathbf{X}^{T}\n",
        "\\end{equation}$\n",
        "\n",
        "где $m$ - индекс столбца, который квантизуется, $\\mathbf{X}$ - матрица активаций, $\\tilde{\\mathbf{W}}$ - деквантизованные веса. <br>\n",
        "Для того чтобы ускорить процесс квантизации и не обновлять всю матрицу $\\mathbf{W}$ после квантизации каждого столбца, они объединяются в блоки (стандартный размер 128). При таком подходе, неквантизованные веса обновляются только в рамках одного блока.\n",
        "\n",
        "Метод QUIK - улучшение версия метода GPTQ, в котором в матрицах весов $W$ каждого слоя модели выделяются столбцы outliers. Данные столбцы не квантизуются, что дает возможность существенно повысить качество модели\n",
        "без значительного увеличения в ее размере. В отличии от LLM.int8() столбцы outliers определяются заранее, исходя из максимального значения активаций в каждом слое, расчитанных на калибровочном датасете. Благодаря этому метод QUIK имеет более высокую скорость инференса по сравнению с LLM.int8().\n",
        "\n",
        "\n",
        "Выбор чувствительных к квантизации столбцов в QUIK выбирается, исходя значения активаций $\\mathbf{X}$, посчитанных на калибровочном датасете:\n",
        "\n",
        "$\n",
        "\\mathbf{i} =  \\underset{\\mathbf{i}}{argmax}\\mathbf{X}, \\\\ $\n",
        "где $\\mathbf{i}$ - 128 индексов столбцов, которые не квантизуются и остаются в fp16.\n",
        "\n",
        "Более подробно про методы квантизации GPTQ и LLM.int8() будет рассказано в лекции про оптимизацию LLM."
      ]
    },
    {
      "cell_type": "markdown",
      "metadata": {
        "id": "7EYHZpNkJkZF"
      },
      "source": [
        "<em> Описание параметров: </em>\n",
        "\n",
        "`model` - путь к директории, где хранится модель. <br>\n",
        "`path_to_act_scales` - путь к файлу с максимальными значений активаций для каждого слоя. <br>\n",
        "Данный файл может быть получен с помощью `generate_act_scales.py` из репозитория `https://github.com/mit-han-lab/smoothquant/tree/main`. <br>\n",
        "`path_to_save_quant_model` - путь к директории, где будет сохранена модель после квантизации. Модель сохранятся с деквантизованными fp весами. <br>\n",
        "`fp_features` - количество столбцов outliers в каждом слое, которые не будут квантизованы. <br>\n",
        "`a_bits` - уровень битности [4, 8, 16], в котором будут вычислены активации для каждого слоя. Если уровень битности меньше 16, то активации квантизуются. Но активации, соответствующие столбцам outliers, остаются всегда в fp16/bf16. <br>\n",
        "`w_bits` - уровень квантизации [4, 8, 16] весов модели. сли уровень битности 16, то веса не квантизуются. <br>\n",
        "`w_clip` - индикатор, указывающий, что коэффициент $\\alpha$, который используется для масштабирования весов модели $\\dfrac{\\mathrm{abs}(\\mathbf{W})}{\\alpha}$ при квантизации, будет найден путем подбора, исходя из минимизации ошибки квантизации $ \\lVert \\mathbf{W} - \\tilde{\\mathbf{W}} \\rVert_{2}$, где $\\tilde{\\mathbf{W}}$ - деквантизованные веса. Поскольку в этом случае значение $\\alpha$ может быть меньше, чем максимальное значение весов $\\mathbf{W}$, то веса модели после квантизации $(2^{\\mathrm{w\\_bits} - 1} - 1)\\dfrac{\\mathbf{W}}{\\alpha}$ ограничиваются до промежутка $[-2^{\\mathrm{w\\_bits} - 1},\\, 2^{\\mathrm{w\\_bits} - 1} - 1]$. <br>\n",
        "`dataset` - калиброчовный датасет, который используется для вычисления матрицы Гессе $\\mathbf{H}$ для каждого слоя модели.\n",
        "\n"
      ]
    },
    {
      "cell_type": "code",
      "source": [
        "!python /content/spars_quant/Home\\ Work/HW\\ 1/quik/experiments/fake_quant/opt.py \\\n",
        "    --model /content/opt-350m \\\n",
        "    --path_to_act_scales /content/spars_quant/Home\\ Work/HW\\ 1/quik/experiments/act_scales/opt_350m.pt \\\n",
        "    --path_to_save_quant_model /content/weight/opt_350_w8_a16 \\\n",
        "    --fp_features 128 \\\n",
        "    --a_bits 16 \\\n",
        "    --w_bits 8 \\\n",
        "    --w_clip \\\n",
        "    --dataset wikitext2 &> /dev/null\n",
        "\n",
        "!lm_eval --model hf \\\n",
        "    --model_args \"pretrained=/content/weight/opt_350_w8_a16\" \\\n",
        "    --tasks winogrande,boolq \\\n",
        "    --batch_size 4 \\\n",
        "    --num_fewshot 0 \\\n",
        "    --device cuda \\\n",
        "    --trust_remote_code"
      ],
      "metadata": {
        "colab": {
          "base_uri": "https://localhost:8080/"
        },
        "id": "oX_Ajehh9Zli",
        "outputId": "c17d9890-5109-4c64-a69c-47f0027b4018"
      },
      "execution_count": 17,
      "outputs": [
        {
          "output_type": "stream",
          "name": "stdout",
          "text": [
            "/usr/local/lib/python3.10/dist-packages/transformers/utils/hub.py:128: FutureWarning: Using `TRANSFORMERS_CACHE` is deprecated and will be removed in v5 of Transformers. Use `HF_HOME` instead.\n",
            "  warnings.warn(\n",
            "2024-12-08 11:37:18.638658: E external/local_xla/xla/stream_executor/cuda/cuda_fft.cc:485] Unable to register cuFFT factory: Attempting to register factory for plugin cuFFT when one has already been registered\n",
            "2024-12-08 11:37:18.658303: E external/local_xla/xla/stream_executor/cuda/cuda_dnn.cc:8454] Unable to register cuDNN factory: Attempting to register factory for plugin cuDNN when one has already been registered\n",
            "2024-12-08 11:37:18.664916: E external/local_xla/xla/stream_executor/cuda/cuda_blas.cc:1452] Unable to register cuBLAS factory: Attempting to register factory for plugin cuBLAS when one has already been registered\n",
            "2024-12-08 11:37:18.679036: I tensorflow/core/platform/cpu_feature_guard.cc:210] This TensorFlow binary is optimized to use available CPU instructions in performance-critical operations.\n",
            "To enable the following instructions: AVX2 AVX512F FMA, in other operations, rebuild TensorFlow with the appropriate compiler flags.\n",
            "2024-12-08 11:37:19.819958: W tensorflow/compiler/tf2tensorrt/utils/py_utils.cc:38] TF-TRT Warning: Could not find TensorRT\n",
            "2024-12-08:11:37:21,655 INFO     [__main__.py:279] Verbosity set to INFO\n",
            "2024-12-08:11:37:33,587 INFO     [__main__.py:364] Passed `--trust_remote_code`, setting environment variable `HF_DATASETS_TRUST_REMOTE_CODE=true`\n",
            "2024-12-08:11:37:33,587 INFO     [__main__.py:376] Selected Tasks: ['boolq', 'winogrande']\n",
            "2024-12-08:11:37:33,589 INFO     [evaluator.py:164] Setting random seed to 0 | Setting numpy seed to 1234 | Setting torch manual seed to 1234 | Setting fewshot manual seed to 1234\n",
            "2024-12-08:11:37:33,589 INFO     [evaluator.py:201] Initializing hf model, with arguments: {'pretrained': '/content/weight/opt_350_w8_a16', 'trust_remote_code': True}\n",
            "2024-12-08:11:37:33,654 INFO     [huggingface.py:129] Using device 'cuda'\n",
            "2024-12-08:11:37:33,656 INFO     [huggingface.py:481] Using model type 'default'\n",
            "2024-12-08:11:37:33,788 INFO     [huggingface.py:365] Model parallel was set to False, max memory was not set, and device map was set to {'': 'cuda'}\n",
            "2024-12-08:11:37:34,600 WARNING  [task.py:799] [Task: boolq] metric acc is defined, but aggregation is not. using default aggregation=mean\n",
            "2024-12-08:11:37:34,600 WARNING  [task.py:811] [Task: boolq] metric acc is defined, but higher_is_better is not. using default higher_is_better=True\n",
            "/usr/local/lib/python3.10/dist-packages/datasets/load.py:1296: FutureWarning: The repository for super_glue contains custom code which must be executed to correctly load the dataset. You can inspect the repository content at https://hf.co/datasets/super_glue\n",
            "You can avoid this message in future by passing the argument `trust_remote_code=True`.\n",
            "Passing `trust_remote_code=True` will be mandatory to load this dataset from the next major release of `datasets`.\n",
            "  warnings.warn(\n",
            "Downloading data: 100% 4.12M/4.12M [00:00<00:00, 226MB/s]\n",
            "Generating train split: 100% 9427/9427 [00:00<00:00, 21648.60 examples/s]\n",
            "Generating validation split: 100% 3270/3270 [00:00<00:00, 23792.12 examples/s]\n",
            "Generating test split: 100% 3245/3245 [00:00<00:00, 20870.54 examples/s]\n",
            "README.md: 100% 9.97k/9.97k [00:00<00:00, 43.0MB/s]\n",
            "winogrande.py: 100% 5.65k/5.65k [00:00<00:00, 29.5MB/s]\n",
            "Downloading data: 100% 3.40M/3.40M [00:01<00:00, 2.66MB/s]\n",
            "Generating train split: 100% 40398/40398 [00:01<00:00, 26213.71 examples/s]\n",
            "Generating test split: 100% 1767/1767 [00:00<00:00, 26311.93 examples/s]\n",
            "Generating validation split: 100% 1267/1267 [00:00<00:00, 23523.04 examples/s]\n",
            "2024-12-08:11:37:47,134 WARNING  [evaluator.py:270] Overwriting default num_fewshot of winogrande from None to 0\n",
            "2024-12-08:11:37:47,134 WARNING  [evaluator.py:270] Overwriting default num_fewshot of boolq from None to 0\n",
            "2024-12-08:11:37:47,134 WARNING  [model.py:422] model.chat_template was called with the chat_template set to False or None. Therefore no chat template will be applied. Make sure this is an intended behavior.\n",
            "2024-12-08:11:37:47,137 INFO     [task.py:415] Building contexts for winogrande on rank 0...\n",
            "100% 1267/1267 [00:00<00:00, 86210.43it/s]\n",
            "2024-12-08:11:37:47,206 INFO     [task.py:415] Building contexts for boolq on rank 0...\n",
            "100% 3270/3270 [00:01<00:00, 1816.18it/s]\n",
            "2024-12-08:11:37:49,122 INFO     [evaluator.py:489] Running loglikelihood requests\n",
            "Running loglikelihood requests: 100% 9074/9074 [02:46<00:00, 54.50it/s]\n",
            "2024-12-08:11:40:43,231 WARNING  [huggingface.py:1353] Failed to get model SHA for /content/weight/opt_350_w8_a16 at revision main. Error: Repo id must be in the form 'repo_name' or 'namespace/repo_name': '/content/weight/opt_350_w8_a16'. Use `repo_type` argument if needed.\n",
            "fatal: not a git repository (or any of the parent directories): .git\n",
            "2024-12-08:11:40:45,621 INFO     [evaluation_tracker.py:269] Output path not provided, skipping saving results aggregated\n",
            "hf (pretrained=/content/weight/opt_350_w8_a16,trust_remote_code=True), gen_kwargs: (None), limit: None, num_fewshot: 0, batch_size: 4\n",
            "|  Tasks   |Version|Filter|n-shot|Metric|   |Value |   |Stderr|\n",
            "|----------|------:|------|-----:|------|---|-----:|---|-----:|\n",
            "|boolq     |      2|none  |     0|acc   |↑  |0.5768|±  |0.0086|\n",
            "|winogrande|      1|none  |     0|acc   |↑  |0.5201|±  |0.0140|\n",
            "\n"
          ]
        }
      ]
    },
    {
      "cell_type": "code",
      "execution_count": null,
      "metadata": {
        "colab": {
          "base_uri": "https://localhost:8080/"
        },
        "id": "6mbx8j0B552r",
        "outputId": "247ee91f-dfeb-4337-df22-20344116b727"
      },
      "outputs": [
        {
          "output_type": "stream",
          "name": "stdout",
          "text": [
            "/usr/local/lib/python3.10/dist-packages/transformers/utils/hub.py:128: FutureWarning: Using `TRANSFORMERS_CACHE` is deprecated and will be removed in v5 of Transformers. Use `HF_HOME` instead.\n",
            "  warnings.warn(\n",
            "2024-12-01 17:15:42.850868: E external/local_xla/xla/stream_executor/cuda/cuda_fft.cc:485] Unable to register cuFFT factory: Attempting to register factory for plugin cuFFT when one has already been registered\n",
            "2024-12-01 17:15:42.870401: E external/local_xla/xla/stream_executor/cuda/cuda_dnn.cc:8454] Unable to register cuDNN factory: Attempting to register factory for plugin cuDNN when one has already been registered\n",
            "2024-12-01 17:15:42.876271: E external/local_xla/xla/stream_executor/cuda/cuda_blas.cc:1452] Unable to register cuBLAS factory: Attempting to register factory for plugin cuBLAS when one has already been registered\n",
            "2024-12-01 17:15:42.890628: I tensorflow/core/platform/cpu_feature_guard.cc:210] This TensorFlow binary is optimized to use available CPU instructions in performance-critical operations.\n",
            "To enable the following instructions: AVX2 AVX512F FMA, in other operations, rebuild TensorFlow with the appropriate compiler flags.\n",
            "2024-12-01 17:15:44.075468: W tensorflow/compiler/tf2tensorrt/utils/py_utils.cc:38] TF-TRT Warning: Could not find TensorRT\n",
            "2024-12-01:17:15:46,621 INFO     [__main__.py:279] Verbosity set to INFO\n",
            "2024-12-01:17:15:55,890 INFO     [__init__.py:459] The tag 'arc_ca' is already registered as a group, this tag will not be registered. This may affect tasks you want to call.\n",
            "2024-12-01:17:15:55,918 INFO     [__init__.py:459] The tag 'arc_ca' is already registered as a group, this tag will not be registered. This may affect tasks you want to call.\n",
            "2024-12-01:17:15:56,204 INFO     [__main__.py:376] Selected Tasks: ['boolq', 'winogrande']\n",
            "2024-12-01:17:15:56,207 INFO     [evaluator.py:164] Setting random seed to 0 | Setting numpy seed to 1234 | Setting torch manual seed to 1234 | Setting fewshot manual seed to 1234\n",
            "2024-12-01:17:15:56,207 INFO     [evaluator.py:201] Initializing hf model, with arguments: {'pretrained': '/content/weight/opt_350_w4_a16'}\n",
            "2024-12-01:17:15:56,286 INFO     [huggingface.py:129] Using device 'cuda'\n",
            "2024-12-01:17:15:56,288 INFO     [huggingface.py:481] Using model type 'default'\n",
            "2024-12-01:17:15:56,430 INFO     [huggingface.py:365] Model parallel was set to False, max memory was not set, and device map was set to {'': 'cuda'}\n",
            "2024-12-01:17:15:57,211 WARNING  [task.py:799] [Task: boolq] metric acc is defined, but aggregation is not. using default aggregation=mean\n",
            "2024-12-01:17:15:57,211 WARNING  [task.py:811] [Task: boolq] metric acc is defined, but higher_is_better is not. using default higher_is_better=True\n",
            "2024-12-01:17:16:01,447 WARNING  [evaluator.py:270] Overwriting default num_fewshot of winogrande from None to 0\n",
            "2024-12-01:17:16:01,447 WARNING  [evaluator.py:270] Overwriting default num_fewshot of boolq from None to 0\n",
            "2024-12-01:17:16:01,447 WARNING  [model.py:422] model.chat_template was called with the chat_template set to False or None. Therefore no chat template will be applied. Make sure this is an intended behavior.\n",
            "2024-12-01:17:16:01,449 INFO     [task.py:415] Building contexts for winogrande on rank 0...\n",
            "100% 1267/1267 [00:00<00:00, 85508.51it/s]\n",
            "2024-12-01:17:16:01,505 INFO     [task.py:415] Building contexts for boolq on rank 0...\n",
            "100% 3270/3270 [00:01<00:00, 1855.80it/s]\n",
            "2024-12-01:17:16:03,379 INFO     [evaluator.py:489] Running loglikelihood requests\n",
            "Running loglikelihood requests: 100% 9074/9074 [02:48<00:00, 53.70it/s]\n",
            "2024-12-01:17:18:58,686 WARNING  [huggingface.py:1353] Failed to get model SHA for /content/weight/opt_350_w4_a16 at revision main. Error: Repo id must be in the form 'repo_name' or 'namespace/repo_name': '/content/weight/opt_350_w4_a16'. Use `repo_type` argument if needed.\n",
            "fatal: not a git repository (or any of the parent directories): .git\n",
            "2024-12-01:17:18:59,902 INFO     [evaluation_tracker.py:269] Output path not provided, skipping saving results aggregated\n",
            "hf (pretrained=/content/weight/opt_350_w4_a16), gen_kwargs: (None), limit: None, num_fewshot: 0, batch_size: 4\n",
            "|  Tasks   |Version|Filter|n-shot|Metric|   |Value |   |Stderr|\n",
            "|----------|------:|------|-----:|------|---|-----:|---|-----:|\n",
            "|boolq     |      2|none  |     0|acc   |↑  |0.5651|±  |0.0087|\n",
            "|winogrande|      1|none  |     0|acc   |↑  |0.5296|±  |0.0140|\n",
            "\n"
          ]
        }
      ],
      "source": [
        "!python /content/spars_quant/Home\\ Work/HW\\ 1/quik/experiments/fake_quant/opt.py \\\n",
        "    --model /content/opt-350m \\\n",
        "    --path_to_act_scales /content/spars_quant/Home\\ Work/HW\\ 1/quik/experiments/act_scales/opt_350m.pt \\\n",
        "    --path_to_save_quant_model /content/weight/opt_350_w4_a16 \\\n",
        "    --fp_features 128 \\\n",
        "    --a_bits 16 \\\n",
        "    --w_bits 4 \\\n",
        "    --w_clip \\\n",
        "    --dataset wikitext2 &> /dev/null\n",
        "\n",
        "!lm_eval --model hf \\\n",
        "    --model_args \"pretrained=/content/weight/opt_350_w4_a16\" \\\n",
        "    --tasks winogrande,boolq \\\n",
        "    --batch_size 4 \\\n",
        "    --num_fewshot 0 \\\n",
        "    --device cuda \\\n",
        "    --trust_remote_code"
      ]
    },
    {
      "cell_type": "markdown",
      "metadata": {
        "id": "_i-RnVaLaO6R"
      },
      "source": [
        "## Метод спарсификации SparseGPT\n",
        "\n",
        "https://github.com/IST-DASLab/sparsegpt"
      ]
    },
    {
      "cell_type": "markdown",
      "metadata": {
        "id": "jcIdikzNcT7-"
      },
      "source": [
        "SparseGPT - метод спарсификации LLM, основанные на процедуре Optimal Brain Surgeon (OBS). Оценка значимости каждого веса $w_{m}$ в матрице весов $\\mathbf{W}$ выполняется, исходя из его влияния на функцию Лагранжа:\n",
        "\n",
        "\\begin{equation}\n",
        "L = \\dfrac{1}{2} \\dfrac{w_{m}^{2}}{[\\mathbf{H}^{-1}]_{mm}}.\n",
        "\\end{equation}\n",
        "\n",
        "Согласно теории OBS функция Лагранжа $L$ связана с ошибкой $E$, вызванной занулением веса $w_{m}$:\n",
        "\n",
        "$\\begin{equation}\n",
        "E = \\lVert \\mathbf{W}\\mathbf{X} - \\tilde{\\mathbf{W}}\\mathbf{X} \\rVert_{2}^{2},\n",
        "\\end{equation}$\n",
        "где $\\tilde{\\mathbf{W}}$ - матрица весов после зануления $w_{m}$.\n",
        "\n",
        "После расчета значимости каждого веса в выбранном слое, выполняется последовательное (слево-направо) обнуления малозначимых весов $w_{m}$. По аналогии с GPTQ обнуление весов выполняется по столбцам, которые сгруппированы в блоки.\n",
        "При этом ошибка, вызыванная спарсификацией, компенсируется путем калибровки весов, находящихся в одной строке с зануленными весами $\\mathbf{w}_{m}$:\n",
        "\n",
        "$\\begin{align}\n",
        "\\mathbf{w}_{update} = \\mathbf{w} + \\delta \\mathbf{w} = \\mathbf{w} + \\dfrac{\\mathbf{w}_{m}}{[\\mathbf{H}^{-1}]_{mm}} \\mathbf{H}^{-1}_{:, m}\n",
        "\\end{align}$"
      ]
    },
    {
      "cell_type": "markdown",
      "metadata": {
        "id": "Ay17rV6jFH1m"
      },
      "source": [
        "<em> Описание параметров </em>\n",
        "`model` - путь к директории, где хранится модель. <br>\n",
        "`dataset` - калибровочный датасет, который используется для расчета матрицы Гессе $\\mathbf{H}$. <br>\n",
        "`sparsity` - коэффициент спарсификации, в интервале от 0.0 (оригинальная модель) до 1.0.<br>\n",
        "`wbits` - уровень битности для спарсифированной модели [4, 8, 16]. Если уровень битности меньше 16, то\n",
        "вместе со спарсификацией будет выполнена также квантизация модели методом GPTQ. Если уровень спрасификации 0.0, то будет выполнена только квантизация методом GPTQ. <br>\n",
        "`sparsity_type` - тип спарсификации. <br>\n",
        "`save_model` - путь к директории, в которой будет сохранена модель."
      ]
    },
    {
      "cell_type": "code",
      "execution_count": null,
      "metadata": {
        "colab": {
          "base_uri": "https://localhost:8080/"
        },
        "id": "c0hB2ysEFH1m",
        "outputId": "75f71afd-5ab4-4fbf-ec12-adc3de4f4505"
      },
      "outputs": [
        {
          "output_type": "stream",
          "name": "stdout",
          "text": [
            "/usr/local/lib/python3.10/dist-packages/transformers/utils/hub.py:128: FutureWarning: Using `TRANSFORMERS_CACHE` is deprecated and will be removed in v5 of Transformers. Use `HF_HOME` instead.\n",
            "  warnings.warn(\n",
            "2024-12-01 17:29:20.638180: E external/local_xla/xla/stream_executor/cuda/cuda_fft.cc:485] Unable to register cuFFT factory: Attempting to register factory for plugin cuFFT when one has already been registered\n",
            "2024-12-01 17:29:20.658929: E external/local_xla/xla/stream_executor/cuda/cuda_dnn.cc:8454] Unable to register cuDNN factory: Attempting to register factory for plugin cuDNN when one has already been registered\n",
            "2024-12-01 17:29:20.664904: E external/local_xla/xla/stream_executor/cuda/cuda_blas.cc:1452] Unable to register cuBLAS factory: Attempting to register factory for plugin cuBLAS when one has already been registered\n",
            "2024-12-01 17:29:20.678950: I tensorflow/core/platform/cpu_feature_guard.cc:210] This TensorFlow binary is optimized to use available CPU instructions in performance-critical operations.\n",
            "To enable the following instructions: AVX2 AVX512F FMA, in other operations, rebuild TensorFlow with the appropriate compiler flags.\n",
            "2024-12-01 17:29:21.867649: W tensorflow/compiler/tf2tensorrt/utils/py_utils.cc:38] TF-TRT Warning: Could not find TensorRT\n",
            "2024-12-01:17:29:23,728 INFO     [__main__.py:279] Verbosity set to INFO\n",
            "2024-12-01:17:29:34,168 INFO     [__init__.py:459] The tag 'arc_ca' is already registered as a group, this tag will not be registered. This may affect tasks you want to call.\n",
            "2024-12-01:17:29:34,196 INFO     [__init__.py:459] The tag 'arc_ca' is already registered as a group, this tag will not be registered. This may affect tasks you want to call.\n",
            "2024-12-01:17:29:34,482 INFO     [__main__.py:376] Selected Tasks: ['boolq', 'winogrande']\n",
            "2024-12-01:17:29:34,484 INFO     [evaluator.py:164] Setting random seed to 0 | Setting numpy seed to 1234 | Setting torch manual seed to 1234 | Setting fewshot manual seed to 1234\n",
            "2024-12-01:17:29:34,484 INFO     [evaluator.py:201] Initializing hf model, with arguments: {'pretrained': '/content/weights/opt350m_sparsegpt_50_w16_a16'}\n",
            "2024-12-01:17:29:34,543 INFO     [huggingface.py:129] Using device 'cuda'\n",
            "2024-12-01:17:29:34,545 INFO     [huggingface.py:481] Using model type 'default'\n",
            "2024-12-01:17:29:34,675 INFO     [huggingface.py:365] Model parallel was set to False, max memory was not set, and device map was set to {'': 'cuda'}\n",
            "2024-12-01:17:29:35,455 WARNING  [task.py:799] [Task: boolq] metric acc is defined, but aggregation is not. using default aggregation=mean\n",
            "2024-12-01:17:29:35,455 WARNING  [task.py:811] [Task: boolq] metric acc is defined, but higher_is_better is not. using default higher_is_better=True\n",
            "2024-12-01:17:29:39,121 WARNING  [evaluator.py:270] Overwriting default num_fewshot of winogrande from None to 0\n",
            "2024-12-01:17:29:39,121 WARNING  [evaluator.py:270] Overwriting default num_fewshot of boolq from None to 0\n",
            "2024-12-01:17:29:39,121 WARNING  [model.py:422] model.chat_template was called with the chat_template set to False or None. Therefore no chat template will be applied. Make sure this is an intended behavior.\n",
            "2024-12-01:17:29:39,123 INFO     [task.py:415] Building contexts for winogrande on rank 0...\n",
            "100% 1267/1267 [00:00<00:00, 83731.44it/s]\n",
            "2024-12-01:17:29:39,178 INFO     [task.py:415] Building contexts for boolq on rank 0...\n",
            "100% 3270/3270 [00:01<00:00, 1869.93it/s]\n",
            "2024-12-01:17:29:41,039 INFO     [evaluator.py:489] Running loglikelihood requests\n",
            "Running loglikelihood requests: 100% 9074/9074 [02:47<00:00, 54.12it/s]\n",
            "2024-12-01:17:32:36,614 WARNING  [huggingface.py:1353] Failed to get model SHA for /content/weights/opt350m_sparsegpt_50_w16_a16 at revision main. Error: Repo id must be in the form 'repo_name' or 'namespace/repo_name': '/content/weights/opt350m_sparsegpt_50_w16_a16'. Use `repo_type` argument if needed.\n",
            "fatal: not a git repository (or any of the parent directories): .git\n",
            "2024-12-01:17:32:37,873 INFO     [evaluation_tracker.py:269] Output path not provided, skipping saving results aggregated\n",
            "hf (pretrained=/content/weights/opt350m_sparsegpt_50_w16_a16), gen_kwargs: (None), limit: None, num_fewshot: 0, batch_size: 4\n",
            "|  Tasks   |Version|Filter|n-shot|Metric|   |Value |   |Stderr|\n",
            "|----------|------:|------|-----:|------|---|-----:|---|-----:|\n",
            "|boolq     |      2|none  |     0|acc   |↑  |0.5933|±  |0.0086|\n",
            "|winogrande|      1|none  |     0|acc   |↑  |0.5122|±  |0.0140|\n",
            "\n"
          ]
        }
      ],
      "source": [
        "!python  /content/spars_quant/Home\\ Work/HW\\ 1/sparsegpt/opt.py \\\n",
        "    --model /content/opt-350m \\\n",
        "    --dataset wikitext2 \\\n",
        "    --sparsity 0.5 \\\n",
        "    --wbits 16 \\\n",
        "    --save /content/weight/opt350m_sparsegpt_50_w16_a16 &> /dev/null\n",
        "\n",
        "!lm_eval --model hf \\\n",
        "    --model_args \"pretrained=/content/weight/opt350m_sparsegpt_50_w16_a16\" \\\n",
        "    --tasks winogrande,boolq \\\n",
        "    --batch_size 4 \\\n",
        "    --num_fewshot 0 \\\n",
        "    --device cuda \\\n",
        "    --trust_remote_code"
      ]
    },
    {
      "cell_type": "code",
      "source": [
        "!python  /content/spars_quant/Home\\ Work/HW\\ 1/sparsegpt/opt.py \\\n",
        "    --model /content/opt-350m \\\n",
        "    --dataset wikitext2 \\\n",
        "    --sparsity 0.75 \\\n",
        "    --wbits 16 \\\n",
        "    --save /content/weight/opt350m_sparsegpt_75_w16_a16 &> /dev/null\n",
        "\n",
        "!lm_eval --model hf \\\n",
        "    --model_args \"pretrained=/content/weight/opt350m_sparsegpt_75_w16_a16\" \\\n",
        "    --tasks winogrande,boolq \\\n",
        "    --batch_size 4 \\\n",
        "    --num_fewshot 0 \\\n",
        "    --device cuda \\\n",
        "    --trust_remote_code"
      ],
      "metadata": {
        "colab": {
          "base_uri": "https://localhost:8080/"
        },
        "id": "8M7Low8L93M7",
        "outputId": "91aec10b-d048-41ad-9dd3-a7ed306729e4"
      },
      "execution_count": 21,
      "outputs": [
        {
          "output_type": "stream",
          "name": "stdout",
          "text": [
            "/usr/local/lib/python3.10/dist-packages/transformers/utils/hub.py:128: FutureWarning: Using `TRANSFORMERS_CACHE` is deprecated and will be removed in v5 of Transformers. Use `HF_HOME` instead.\n",
            "  warnings.warn(\n",
            "2024-12-08 12:25:50.352371: E external/local_xla/xla/stream_executor/cuda/cuda_fft.cc:485] Unable to register cuFFT factory: Attempting to register factory for plugin cuFFT when one has already been registered\n",
            "2024-12-08 12:25:50.372747: E external/local_xla/xla/stream_executor/cuda/cuda_dnn.cc:8454] Unable to register cuDNN factory: Attempting to register factory for plugin cuDNN when one has already been registered\n",
            "2024-12-08 12:25:50.378610: E external/local_xla/xla/stream_executor/cuda/cuda_blas.cc:1452] Unable to register cuBLAS factory: Attempting to register factory for plugin cuBLAS when one has already been registered\n",
            "2024-12-08 12:25:50.393710: I tensorflow/core/platform/cpu_feature_guard.cc:210] This TensorFlow binary is optimized to use available CPU instructions in performance-critical operations.\n",
            "To enable the following instructions: AVX2 AVX512F FMA, in other operations, rebuild TensorFlow with the appropriate compiler flags.\n",
            "2024-12-08 12:25:51.531877: W tensorflow/compiler/tf2tensorrt/utils/py_utils.cc:38] TF-TRT Warning: Could not find TensorRT\n",
            "2024-12-08:12:25:53,649 INFO     [__main__.py:279] Verbosity set to INFO\n",
            "2024-12-08:12:26:04,215 INFO     [__main__.py:364] Passed `--trust_remote_code`, setting environment variable `HF_DATASETS_TRUST_REMOTE_CODE=true`\n",
            "2024-12-08:12:26:04,215 INFO     [__main__.py:376] Selected Tasks: ['boolq', 'winogrande']\n",
            "2024-12-08:12:26:04,217 INFO     [evaluator.py:164] Setting random seed to 0 | Setting numpy seed to 1234 | Setting torch manual seed to 1234 | Setting fewshot manual seed to 1234\n",
            "2024-12-08:12:26:04,217 INFO     [evaluator.py:201] Initializing hf model, with arguments: {'pretrained': '/content/weight/opt350m_sparsegpt_75_w16_a16', 'trust_remote_code': True}\n",
            "2024-12-08:12:26:04,277 INFO     [huggingface.py:129] Using device 'cuda'\n",
            "2024-12-08:12:26:04,278 INFO     [huggingface.py:481] Using model type 'default'\n",
            "2024-12-08:12:26:04,411 INFO     [huggingface.py:365] Model parallel was set to False, max memory was not set, and device map was set to {'': 'cuda'}\n",
            "2024-12-08:12:26:05,212 WARNING  [task.py:799] [Task: boolq] metric acc is defined, but aggregation is not. using default aggregation=mean\n",
            "2024-12-08:12:26:05,212 WARNING  [task.py:811] [Task: boolq] metric acc is defined, but higher_is_better is not. using default higher_is_better=True\n",
            "/usr/local/lib/python3.10/dist-packages/datasets/load.py:1296: FutureWarning: The repository for super_glue contains custom code which must be executed to correctly load the dataset. You can inspect the repository content at https://hf.co/datasets/super_glue\n",
            "You can avoid this message in future by passing the argument `trust_remote_code=True`.\n",
            "Passing `trust_remote_code=True` will be mandatory to load this dataset from the next major release of `datasets`.\n",
            "  warnings.warn(\n",
            "2024-12-08:12:26:12,876 WARNING  [evaluator.py:270] Overwriting default num_fewshot of winogrande from None to 0\n",
            "2024-12-08:12:26:12,876 WARNING  [evaluator.py:270] Overwriting default num_fewshot of boolq from None to 0\n",
            "2024-12-08:12:26:12,876 WARNING  [model.py:422] model.chat_template was called with the chat_template set to False or None. Therefore no chat template will be applied. Make sure this is an intended behavior.\n",
            "2024-12-08:12:26:12,878 INFO     [task.py:415] Building contexts for winogrande on rank 0...\n",
            "100% 1267/1267 [00:00<00:00, 81897.78it/s]\n",
            "2024-12-08:12:26:12,936 INFO     [task.py:415] Building contexts for boolq on rank 0...\n",
            "100% 3270/3270 [00:01<00:00, 1877.87it/s]\n",
            "2024-12-08:12:26:14,788 INFO     [evaluator.py:489] Running loglikelihood requests\n",
            "Running loglikelihood requests: 100% 9074/9074 [02:45<00:00, 54.79it/s]\n",
            "2024-12-08:12:29:06,768 WARNING  [huggingface.py:1353] Failed to get model SHA for /content/weight/opt350m_sparsegpt_75_w16_a16 at revision main. Error: Repo id must be in the form 'repo_name' or 'namespace/repo_name': '/content/weight/opt350m_sparsegpt_75_w16_a16'. Use `repo_type` argument if needed.\n",
            "fatal: not a git repository (or any of the parent directories): .git\n",
            "2024-12-08:12:29:07,904 INFO     [evaluation_tracker.py:269] Output path not provided, skipping saving results aggregated\n",
            "hf (pretrained=/content/weight/opt350m_sparsegpt_75_w16_a16,trust_remote_code=True), gen_kwargs: (None), limit: None, num_fewshot: 0, batch_size: 4\n",
            "|  Tasks   |Version|Filter|n-shot|Metric|   |Value |   |Stderr|\n",
            "|----------|------:|------|-----:|------|---|-----:|---|-----:|\n",
            "|boolq     |      2|none  |     0|acc   |↑  |0.3792|±  |0.0085|\n",
            "|winogrande|      1|none  |     0|acc   |↑  |0.5217|±  |0.0140|\n",
            "\n"
          ]
        }
      ]
    },
    {
      "cell_type": "markdown",
      "metadata": {
        "id": "ocMobNlhFH1m"
      },
      "source": [
        "Пример запуска скрипта для квантизации модели методом GPTQ до уровня 4 бит (wbits = 4). <br>\n",
        "Для того чтобы одновременно выполнить квантизацию и спарсификацию, необходимо указать коэффициент\n",
        "спарсификации (напр. sparsity = 50%)"
      ]
    },
    {
      "cell_type": "code",
      "source": [
        "!python  /content/spars_quant/Home\\ Work/HW\\ 1/sparsegpt/opt.py \\\n",
        "    --model /content/opt-350m \\\n",
        "    --dataset wikitext2 \\\n",
        "    --sparsity 0.0 \\\n",
        "    --wbits 8 \\\n",
        "    --save /content/weights/opt350m_gptq_w8_a16 &> /dev/null\n",
        "\n",
        "!lm_eval --model hf \\\n",
        "    --model_args \"pretrained=/content/weights/opt350m_gptq_w8_a16\" \\\n",
        "    --tasks winogrande,boolq \\\n",
        "    --batch_size 4 \\\n",
        "    --num_fewshot 0 \\\n",
        "    --device cuda \\\n",
        "    --trust_remote_code"
      ],
      "metadata": {
        "colab": {
          "base_uri": "https://localhost:8080/"
        },
        "id": "Okl3stUm_KEE",
        "outputId": "d9d6628f-3e05-4a59-ffe1-70c66b1271f4"
      },
      "execution_count": 19,
      "outputs": [
        {
          "output_type": "stream",
          "name": "stdout",
          "text": [
            "/usr/local/lib/python3.10/dist-packages/transformers/utils/hub.py:128: FutureWarning: Using `TRANSFORMERS_CACHE` is deprecated and will be removed in v5 of Transformers. Use `HF_HOME` instead.\n",
            "  warnings.warn(\n",
            "2024-12-08 11:59:46.433216: E external/local_xla/xla/stream_executor/cuda/cuda_fft.cc:485] Unable to register cuFFT factory: Attempting to register factory for plugin cuFFT when one has already been registered\n",
            "2024-12-08 11:59:46.465469: E external/local_xla/xla/stream_executor/cuda/cuda_dnn.cc:8454] Unable to register cuDNN factory: Attempting to register factory for plugin cuDNN when one has already been registered\n",
            "2024-12-08 11:59:46.476176: E external/local_xla/xla/stream_executor/cuda/cuda_blas.cc:1452] Unable to register cuBLAS factory: Attempting to register factory for plugin cuBLAS when one has already been registered\n",
            "2024-12-08 11:59:46.503633: I tensorflow/core/platform/cpu_feature_guard.cc:210] This TensorFlow binary is optimized to use available CPU instructions in performance-critical operations.\n",
            "To enable the following instructions: AVX2 AVX512F FMA, in other operations, rebuild TensorFlow with the appropriate compiler flags.\n",
            "2024-12-08 11:59:48.050618: W tensorflow/compiler/tf2tensorrt/utils/py_utils.cc:38] TF-TRT Warning: Could not find TensorRT\n",
            "2024-12-08:11:59:50,128 INFO     [__main__.py:279] Verbosity set to INFO\n",
            "2024-12-08:12:00:00,631 INFO     [__main__.py:364] Passed `--trust_remote_code`, setting environment variable `HF_DATASETS_TRUST_REMOTE_CODE=true`\n",
            "2024-12-08:12:00:00,631 INFO     [__main__.py:376] Selected Tasks: ['boolq', 'winogrande']\n",
            "2024-12-08:12:00:00,633 INFO     [evaluator.py:164] Setting random seed to 0 | Setting numpy seed to 1234 | Setting torch manual seed to 1234 | Setting fewshot manual seed to 1234\n",
            "2024-12-08:12:00:00,633 INFO     [evaluator.py:201] Initializing hf model, with arguments: {'pretrained': '/content/weights/opt350m_gptq_w8_a16', 'trust_remote_code': True}\n",
            "2024-12-08:12:00:00,711 INFO     [huggingface.py:129] Using device 'cuda'\n",
            "2024-12-08:12:00:00,713 INFO     [huggingface.py:481] Using model type 'default'\n",
            "2024-12-08:12:00:00,901 INFO     [huggingface.py:365] Model parallel was set to False, max memory was not set, and device map was set to {'': 'cuda'}\n",
            "2024-12-08:12:00:01,698 WARNING  [task.py:799] [Task: boolq] metric acc is defined, but aggregation is not. using default aggregation=mean\n",
            "2024-12-08:12:00:01,698 WARNING  [task.py:811] [Task: boolq] metric acc is defined, but higher_is_better is not. using default higher_is_better=True\n",
            "/usr/local/lib/python3.10/dist-packages/datasets/load.py:1296: FutureWarning: The repository for super_glue contains custom code which must be executed to correctly load the dataset. You can inspect the repository content at https://hf.co/datasets/super_glue\n",
            "You can avoid this message in future by passing the argument `trust_remote_code=True`.\n",
            "Passing `trust_remote_code=True` will be mandatory to load this dataset from the next major release of `datasets`.\n",
            "  warnings.warn(\n",
            "2024-12-08:12:00:11,281 WARNING  [evaluator.py:270] Overwriting default num_fewshot of winogrande from None to 0\n",
            "2024-12-08:12:00:11,282 WARNING  [evaluator.py:270] Overwriting default num_fewshot of boolq from None to 0\n",
            "2024-12-08:12:00:11,282 WARNING  [model.py:422] model.chat_template was called with the chat_template set to False or None. Therefore no chat template will be applied. Make sure this is an intended behavior.\n",
            "2024-12-08:12:00:11,284 INFO     [task.py:415] Building contexts for winogrande on rank 0...\n",
            "100% 1267/1267 [00:00<00:00, 49863.32it/s]\n",
            "2024-12-08:12:00:11,380 INFO     [task.py:415] Building contexts for boolq on rank 0...\n",
            "100% 3270/3270 [00:02<00:00, 1242.55it/s]\n",
            "2024-12-08:12:00:14,198 INFO     [evaluator.py:489] Running loglikelihood requests\n",
            "Running loglikelihood requests: 100% 9074/9074 [02:47<00:00, 54.14it/s]\n",
            "2024-12-08:12:03:08,322 WARNING  [huggingface.py:1353] Failed to get model SHA for /content/weights/opt350m_gptq_w8_a16 at revision main. Error: Repo id must be in the form 'repo_name' or 'namespace/repo_name': '/content/weights/opt350m_gptq_w8_a16'. Use `repo_type` argument if needed.\n",
            "fatal: not a git repository (or any of the parent directories): .git\n",
            "2024-12-08:12:03:09,452 INFO     [evaluation_tracker.py:269] Output path not provided, skipping saving results aggregated\n",
            "hf (pretrained=/content/weights/opt350m_gptq_w8_a16,trust_remote_code=True), gen_kwargs: (None), limit: None, num_fewshot: 0, batch_size: 4\n",
            "|  Tasks   |Version|Filter|n-shot|Metric|   |Value |   |Stderr|\n",
            "|----------|------:|------|-----:|------|---|-----:|---|-----:|\n",
            "|boolq     |      2|none  |     0|acc   |↑  |0.5758|±  |0.0086|\n",
            "|winogrande|      1|none  |     0|acc   |↑  |0.5249|±  |0.0140|\n",
            "\n"
          ]
        }
      ]
    },
    {
      "cell_type": "code",
      "source": [
        "!python  /content/spars_quant/Home\\ Work/HW\\ 1/sparsegpt/opt.py \\\n",
        "    --model /content/opt-350m \\\n",
        "    --dataset wikitext2 \\\n",
        "    --sparsity 0.0 \\\n",
        "    --wbits 4 \\\n",
        "    --save /content/weights/opt350m_gptq_w4_a16 &> /dev/null\n",
        "\n",
        "!lm_eval --model hf \\\n",
        "    --model_args \"pretrained=/content/weights/opt350m_gptq_w4_a16\" \\\n",
        "    --tasks winogrande,boolq \\\n",
        "    --batch_size 4 \\\n",
        "    --num_fewshot 0 \\\n",
        "    --device cuda"
      ],
      "metadata": {
        "colab": {
          "base_uri": "https://localhost:8080/"
        },
        "id": "bpck_pvqO4Rs",
        "outputId": "6690a518-1810-45ad-890f-0ee5d585f359"
      },
      "execution_count": null,
      "outputs": [
        {
          "output_type": "stream",
          "name": "stdout",
          "text": [
            "/usr/local/lib/python3.10/dist-packages/transformers/utils/hub.py:128: FutureWarning: Using `TRANSFORMERS_CACHE` is deprecated and will be removed in v5 of Transformers. Use `HF_HOME` instead.\n",
            "  warnings.warn(\n",
            "2024-12-01 17:42:50.256104: E external/local_xla/xla/stream_executor/cuda/cuda_fft.cc:485] Unable to register cuFFT factory: Attempting to register factory for plugin cuFFT when one has already been registered\n",
            "2024-12-01 17:42:50.275837: E external/local_xla/xla/stream_executor/cuda/cuda_dnn.cc:8454] Unable to register cuDNN factory: Attempting to register factory for plugin cuDNN when one has already been registered\n",
            "2024-12-01 17:42:50.281819: E external/local_xla/xla/stream_executor/cuda/cuda_blas.cc:1452] Unable to register cuBLAS factory: Attempting to register factory for plugin cuBLAS when one has already been registered\n",
            "2024-12-01 17:42:50.296172: I tensorflow/core/platform/cpu_feature_guard.cc:210] This TensorFlow binary is optimized to use available CPU instructions in performance-critical operations.\n",
            "To enable the following instructions: AVX2 AVX512F FMA, in other operations, rebuild TensorFlow with the appropriate compiler flags.\n",
            "2024-12-01 17:42:51.485264: W tensorflow/compiler/tf2tensorrt/utils/py_utils.cc:38] TF-TRT Warning: Could not find TensorRT\n",
            "2024-12-01:17:42:53,440 INFO     [__main__.py:279] Verbosity set to INFO\n",
            "2024-12-01:17:43:03,791 INFO     [__init__.py:459] The tag 'arc_ca' is already registered as a group, this tag will not be registered. This may affect tasks you want to call.\n",
            "2024-12-01:17:43:03,820 INFO     [__init__.py:459] The tag 'arc_ca' is already registered as a group, this tag will not be registered. This may affect tasks you want to call.\n",
            "2024-12-01:17:43:04,110 INFO     [__main__.py:376] Selected Tasks: ['boolq', 'winogrande']\n",
            "2024-12-01:17:43:04,112 INFO     [evaluator.py:164] Setting random seed to 0 | Setting numpy seed to 1234 | Setting torch manual seed to 1234 | Setting fewshot manual seed to 1234\n",
            "2024-12-01:17:43:04,112 INFO     [evaluator.py:201] Initializing hf model, with arguments: {'pretrained': '/content/weights/opt350m_gptq_w4_a16'}\n",
            "2024-12-01:17:43:04,171 INFO     [huggingface.py:129] Using device 'cuda'\n",
            "2024-12-01:17:43:04,173 INFO     [huggingface.py:481] Using model type 'default'\n",
            "2024-12-01:17:43:04,310 INFO     [huggingface.py:365] Model parallel was set to False, max memory was not set, and device map was set to {'': 'cuda'}\n",
            "2024-12-01:17:43:05,078 WARNING  [task.py:799] [Task: boolq] metric acc is defined, but aggregation is not. using default aggregation=mean\n",
            "2024-12-01:17:43:05,079 WARNING  [task.py:811] [Task: boolq] metric acc is defined, but higher_is_better is not. using default higher_is_better=True\n",
            "2024-12-01:17:43:08,745 WARNING  [evaluator.py:270] Overwriting default num_fewshot of winogrande from None to 0\n",
            "2024-12-01:17:43:08,745 WARNING  [evaluator.py:270] Overwriting default num_fewshot of boolq from None to 0\n",
            "2024-12-01:17:43:08,745 WARNING  [model.py:422] model.chat_template was called with the chat_template set to False or None. Therefore no chat template will be applied. Make sure this is an intended behavior.\n",
            "2024-12-01:17:43:08,747 INFO     [task.py:415] Building contexts for winogrande on rank 0...\n",
            "100% 1267/1267 [00:00<00:00, 82181.48it/s]\n",
            "2024-12-01:17:43:08,802 INFO     [task.py:415] Building contexts for boolq on rank 0...\n",
            "100% 3270/3270 [00:02<00:00, 1471.15it/s]\n",
            "2024-12-01:17:43:11,139 INFO     [evaluator.py:489] Running loglikelihood requests\n",
            "Running loglikelihood requests: 100% 9074/9074 [02:49<00:00, 53.57it/s]\n",
            "2024-12-01:17:46:07,811 WARNING  [huggingface.py:1353] Failed to get model SHA for /content/weights/opt350m_gptq_w4_a16 at revision main. Error: Repo id must be in the form 'repo_name' or 'namespace/repo_name': '/content/weights/opt350m_gptq_w4_a16'. Use `repo_type` argument if needed.\n",
            "fatal: not a git repository (or any of the parent directories): .git\n",
            "2024-12-01:17:46:09,007 INFO     [evaluation_tracker.py:269] Output path not provided, skipping saving results aggregated\n",
            "hf (pretrained=/content/weights/opt350m_gptq_w4_a16), gen_kwargs: (None), limit: None, num_fewshot: 0, batch_size: 4\n",
            "|  Tasks   |Version|Filter|n-shot|Metric|   |Value |   |Stderr|\n",
            "|----------|------:|------|-----:|------|---|-----:|---|-----:|\n",
            "|boolq     |      2|none  |     0|acc   |↑  |0.5920|±  |0.0086|\n",
            "|winogrande|      1|none  |     0|acc   |↑  |0.5185|±  |0.0140|\n",
            "\n"
          ]
        }
      ]
    },
    {
      "cell_type": "markdown",
      "metadata": {
        "id": "kiucXEveX_8Y"
      },
      "source": [
        "## Метод спарсификации Wanda\n",
        "\n",
        "https://github.com/locuslab/wanda?tab=readme-ov-file"
      ]
    },
    {
      "cell_type": "markdown",
      "metadata": {
        "id": "KCSbCtjVYESS"
      },
      "source": [
        "Wanda - метод неструктурной спарсификации LLM, в котором ранжирование значимости весов $\\mathbf{W}$ каждого слоя модели выполняется посредством метрики:\n",
        "\n",
        "$\\begin{align}\n",
        "score(\\mathbf{W}) = \\lvert \\mathbf{W} \\rvert \\cdot \\lVert \\mathbf{X} \\rVert_{2},\n",
        "\\end{align}$\n",
        "где $\\lVert \\mathbf{X} \\rVert_{2}$ - усредненные по всем строкам посредством $L_{2}$ нормы значения активаций."
      ]
    },
    {
      "cell_type": "markdown",
      "metadata": {
        "id": "ihs45jLtZOlX"
      },
      "source": [
        "<img src=\"https://github.com/iptkachev/Efficient-DL-Models/blob/master/Home%20Work/HW%201/notebooks/images/wanda.png?raw=1\">"
      ]
    },
    {
      "cell_type": "markdown",
      "metadata": {
        "id": "sBarOYhxFH1n"
      },
      "source": [
        "<em> Описание параметров </em>\n",
        "`model` - путь к директории, где хранится модель. <br>\n",
        "`prune_method` - метод спарсификации. <br>\n",
        "`sparsity_ratio` - коэффициент спарсификации, в интервале от 0.0 (оригинальная модель) до 1.0. <br>\n",
        "`sparsity_type` - тип спарсификации. <br>\n",
        "`save_model` - путь к директории, в которой будет сохранена модель."
      ]
    },
    {
      "cell_type": "code",
      "execution_count": null,
      "metadata": {
        "colab": {
          "base_uri": "https://localhost:8080/"
        },
        "id": "8aOg0GOv55s7",
        "outputId": "e0fcd4f7-0a1c-45d8-8bbc-3ed3ea96b68d"
      },
      "outputs": [
        {
          "output_type": "stream",
          "name": "stdout",
          "text": [
            "/usr/local/lib/python3.10/dist-packages/transformers/utils/hub.py:128: FutureWarning: Using `TRANSFORMERS_CACHE` is deprecated and will be removed in v5 of Transformers. Use `HF_HOME` instead.\n",
            "  warnings.warn(\n",
            "2024-12-01 17:53:28.185422: E external/local_xla/xla/stream_executor/cuda/cuda_fft.cc:485] Unable to register cuFFT factory: Attempting to register factory for plugin cuFFT when one has already been registered\n",
            "2024-12-01 17:53:28.218591: E external/local_xla/xla/stream_executor/cuda/cuda_dnn.cc:8454] Unable to register cuDNN factory: Attempting to register factory for plugin cuDNN when one has already been registered\n",
            "2024-12-01 17:53:28.228906: E external/local_xla/xla/stream_executor/cuda/cuda_blas.cc:1452] Unable to register cuBLAS factory: Attempting to register factory for plugin cuBLAS when one has already been registered\n",
            "2024-12-01 17:53:28.253108: I tensorflow/core/platform/cpu_feature_guard.cc:210] This TensorFlow binary is optimized to use available CPU instructions in performance-critical operations.\n",
            "To enable the following instructions: AVX2 AVX512F FMA, in other operations, rebuild TensorFlow with the appropriate compiler flags.\n",
            "2024-12-01 17:53:29.496576: W tensorflow/compiler/tf2tensorrt/utils/py_utils.cc:38] TF-TRT Warning: Could not find TensorRT\n",
            "2024-12-01:17:53:31,432 INFO     [__main__.py:279] Verbosity set to INFO\n",
            "2024-12-01:17:53:41,591 INFO     [__init__.py:459] The tag 'arc_ca' is already registered as a group, this tag will not be registered. This may affect tasks you want to call.\n",
            "2024-12-01:17:53:41,641 INFO     [__init__.py:459] The tag 'arc_ca' is already registered as a group, this tag will not be registered. This may affect tasks you want to call.\n",
            "2024-12-01:17:53:42,114 INFO     [__main__.py:376] Selected Tasks: ['boolq', 'winogrande']\n",
            "2024-12-01:17:53:42,115 INFO     [evaluator.py:164] Setting random seed to 0 | Setting numpy seed to 1234 | Setting torch manual seed to 1234 | Setting fewshot manual seed to 1234\n",
            "2024-12-01:17:53:42,115 INFO     [evaluator.py:201] Initializing hf model, with arguments: {'pretrained': '/content/weight/opt350m_wanda_50'}\n",
            "2024-12-01:17:53:42,173 INFO     [huggingface.py:129] Using device 'cuda'\n",
            "2024-12-01:17:53:42,175 INFO     [huggingface.py:481] Using model type 'default'\n",
            "2024-12-01:17:53:42,311 INFO     [huggingface.py:365] Model parallel was set to False, max memory was not set, and device map was set to {'': 'cuda'}\n",
            "2024-12-01:17:53:43,100 WARNING  [task.py:799] [Task: boolq] metric acc is defined, but aggregation is not. using default aggregation=mean\n",
            "2024-12-01:17:53:43,100 WARNING  [task.py:811] [Task: boolq] metric acc is defined, but higher_is_better is not. using default higher_is_better=True\n",
            "2024-12-01:17:53:46,820 WARNING  [evaluator.py:270] Overwriting default num_fewshot of winogrande from None to 0\n",
            "2024-12-01:17:53:46,821 WARNING  [evaluator.py:270] Overwriting default num_fewshot of boolq from None to 0\n",
            "2024-12-01:17:53:46,821 WARNING  [model.py:422] model.chat_template was called with the chat_template set to False or None. Therefore no chat template will be applied. Make sure this is an intended behavior.\n",
            "2024-12-01:17:53:46,823 INFO     [task.py:415] Building contexts for winogrande on rank 0...\n",
            "100% 1267/1267 [00:00<00:00, 86260.81it/s]\n",
            "2024-12-01:17:53:46,893 INFO     [task.py:415] Building contexts for boolq on rank 0...\n",
            "100% 3270/3270 [00:01<00:00, 1837.83it/s]\n",
            "2024-12-01:17:53:48,788 INFO     [evaluator.py:489] Running loglikelihood requests\n",
            "Running loglikelihood requests: 100% 9074/9074 [02:48<00:00, 53.89it/s]\n",
            "2024-12-01:17:56:44,917 WARNING  [huggingface.py:1353] Failed to get model SHA for /content/weight/opt350m_wanda_50 at revision main. Error: Repo id must be in the form 'repo_name' or 'namespace/repo_name': '/content/weight/opt350m_wanda_50'. Use `repo_type` argument if needed.\n",
            "fatal: not a git repository (or any of the parent directories): .git\n",
            "2024-12-01:17:56:46,519 INFO     [evaluation_tracker.py:269] Output path not provided, skipping saving results aggregated\n",
            "hf (pretrained=/content/weight/opt350m_wanda_50), gen_kwargs: (None), limit: None, num_fewshot: 0, batch_size: 4\n",
            "|  Tasks   |Version|Filter|n-shot|Metric|   |Value |   |Stderr|\n",
            "|----------|------:|------|-----:|------|---|-----:|---|-----:|\n",
            "|boolq     |      2|none  |     0|acc   |↑  |0.4933|±  |0.0087|\n",
            "|winogrande|      1|none  |     0|acc   |↑  |0.5004|±  |0.0141|\n",
            "\n"
          ]
        }
      ],
      "source": [
        "!python /content/spars_quant/Home\\ Work/HW\\ 1/wanda/main_opt.py \\\n",
        "    --model /content/opt-350m \\\n",
        "    --prune_method wanda \\\n",
        "    --sparsity_ratio 0.5 \\\n",
        "    --sparsity_type unstructured \\\n",
        "    --save_model /content/weight/opt350m_wanda_50 &> /dev/null\n",
        "\n",
        "!lm_eval --model hf \\\n",
        "    --model_args \"pretrained=/content/weight/opt350m_wanda_50\" \\\n",
        "    --tasks winogrande,boolq \\\n",
        "    --batch_size 4 \\\n",
        "    --num_fewshot 0 \\\n",
        "    --device cuda \\\n",
        "    --trust_remote_code"
      ]
    },
    {
      "cell_type": "code",
      "source": [
        "!python /content/spars_quant/Home\\ Work/HW\\ 1/wanda/main_opt.py \\\n",
        "    --model /content/opt-350m \\\n",
        "    --prune_method wanda \\\n",
        "    --sparsity_ratio 0.75 \\\n",
        "    --sparsity_type unstructured \\\n",
        "    --save_model /content/weight/opt350m_wanda_75 &> /dev/null\n",
        "\n",
        "!lm_eval --model hf \\\n",
        "    --model_args \"pretrained=/content/weight/opt350m_wanda_75\" \\\n",
        "    --tasks winogrande,boolq \\\n",
        "    --batch_size 4 \\\n",
        "    --num_fewshot 0 \\\n",
        "    --device cuda \\\n",
        "    --trust_remote_code"
      ],
      "metadata": {
        "colab": {
          "base_uri": "https://localhost:8080/"
        },
        "id": "bx9b4ZZm_iqw",
        "outputId": "97873218-eec1-44b9-ef39-f147448aab8e"
      },
      "execution_count": 22,
      "outputs": [
        {
          "output_type": "stream",
          "name": "stdout",
          "text": [
            "/usr/local/lib/python3.10/dist-packages/transformers/utils/hub.py:128: FutureWarning: Using `TRANSFORMERS_CACHE` is deprecated and will be removed in v5 of Transformers. Use `HF_HOME` instead.\n",
            "  warnings.warn(\n",
            "2024-12-08 12:36:37.353388: E external/local_xla/xla/stream_executor/cuda/cuda_fft.cc:485] Unable to register cuFFT factory: Attempting to register factory for plugin cuFFT when one has already been registered\n",
            "2024-12-08 12:36:37.373175: E external/local_xla/xla/stream_executor/cuda/cuda_dnn.cc:8454] Unable to register cuDNN factory: Attempting to register factory for plugin cuDNN when one has already been registered\n",
            "2024-12-08 12:36:37.379289: E external/local_xla/xla/stream_executor/cuda/cuda_blas.cc:1452] Unable to register cuBLAS factory: Attempting to register factory for plugin cuBLAS when one has already been registered\n",
            "2024-12-08 12:36:37.394458: I tensorflow/core/platform/cpu_feature_guard.cc:210] This TensorFlow binary is optimized to use available CPU instructions in performance-critical operations.\n",
            "To enable the following instructions: AVX2 AVX512F FMA, in other operations, rebuild TensorFlow with the appropriate compiler flags.\n",
            "2024-12-08 12:36:38.626147: W tensorflow/compiler/tf2tensorrt/utils/py_utils.cc:38] TF-TRT Warning: Could not find TensorRT\n",
            "2024-12-08:12:36:40,622 INFO     [__main__.py:279] Verbosity set to INFO\n",
            "2024-12-08:12:36:52,193 INFO     [__main__.py:364] Passed `--trust_remote_code`, setting environment variable `HF_DATASETS_TRUST_REMOTE_CODE=true`\n",
            "2024-12-08:12:36:52,193 INFO     [__main__.py:376] Selected Tasks: ['boolq', 'winogrande']\n",
            "2024-12-08:12:36:52,195 INFO     [evaluator.py:164] Setting random seed to 0 | Setting numpy seed to 1234 | Setting torch manual seed to 1234 | Setting fewshot manual seed to 1234\n",
            "2024-12-08:12:36:52,195 INFO     [evaluator.py:201] Initializing hf model, with arguments: {'pretrained': '/content/weight/opt350m_wanda_75', 'trust_remote_code': True}\n",
            "2024-12-08:12:36:52,256 INFO     [huggingface.py:129] Using device 'cuda'\n",
            "2024-12-08:12:36:52,258 INFO     [huggingface.py:481] Using model type 'default'\n",
            "2024-12-08:12:36:52,396 INFO     [huggingface.py:365] Model parallel was set to False, max memory was not set, and device map was set to {'': 'cuda'}\n",
            "2024-12-08:12:36:53,200 WARNING  [task.py:799] [Task: boolq] metric acc is defined, but aggregation is not. using default aggregation=mean\n",
            "2024-12-08:12:36:53,200 WARNING  [task.py:811] [Task: boolq] metric acc is defined, but higher_is_better is not. using default higher_is_better=True\n",
            "/usr/local/lib/python3.10/dist-packages/datasets/load.py:1296: FutureWarning: The repository for super_glue contains custom code which must be executed to correctly load the dataset. You can inspect the repository content at https://hf.co/datasets/super_glue\n",
            "You can avoid this message in future by passing the argument `trust_remote_code=True`.\n",
            "Passing `trust_remote_code=True` will be mandatory to load this dataset from the next major release of `datasets`.\n",
            "  warnings.warn(\n",
            "2024-12-08:12:36:59,872 WARNING  [evaluator.py:270] Overwriting default num_fewshot of winogrande from None to 0\n",
            "2024-12-08:12:36:59,872 WARNING  [evaluator.py:270] Overwriting default num_fewshot of boolq from None to 0\n",
            "2024-12-08:12:36:59,872 WARNING  [model.py:422] model.chat_template was called with the chat_template set to False or None. Therefore no chat template will be applied. Make sure this is an intended behavior.\n",
            "2024-12-08:12:36:59,874 INFO     [task.py:415] Building contexts for winogrande on rank 0...\n",
            "100% 1267/1267 [00:00<00:00, 83442.20it/s]\n",
            "2024-12-08:12:36:59,929 INFO     [task.py:415] Building contexts for boolq on rank 0...\n",
            "100% 3270/3270 [00:02<00:00, 1303.22it/s]\n",
            "2024-12-08:12:37:02,552 INFO     [evaluator.py:489] Running loglikelihood requests\n",
            "Running loglikelihood requests: 100% 9074/9074 [02:44<00:00, 55.07it/s]\n",
            "2024-12-08:12:39:54,732 WARNING  [huggingface.py:1353] Failed to get model SHA for /content/weight/opt350m_wanda_75 at revision main. Error: Repo id must be in the form 'repo_name' or 'namespace/repo_name': '/content/weight/opt350m_wanda_75'. Use `repo_type` argument if needed.\n",
            "fatal: not a git repository (or any of the parent directories): .git\n",
            "2024-12-08:12:39:56,282 INFO     [evaluation_tracker.py:269] Output path not provided, skipping saving results aggregated\n",
            "hf (pretrained=/content/weight/opt350m_wanda_75,trust_remote_code=True), gen_kwargs: (None), limit: None, num_fewshot: 0, batch_size: 4\n",
            "|  Tasks   |Version|Filter|n-shot|Metric|   |Value |   |Stderr|\n",
            "|----------|------:|------|-----:|------|---|-----:|---|-----:|\n",
            "|boolq     |      2|none  |     0|acc   |↑  |0.3783|±  |0.0085|\n",
            "|winogrande|      1|none  |     0|acc   |↑  |0.5280|±  |0.0140|\n",
            "\n"
          ]
        }
      ]
    },
    {
      "cell_type": "markdown",
      "metadata": {
        "id": "-uA0R5dm8in9"
      },
      "source": [
        "# Ваши графики и решения тут:"
      ]
    },
    {
      "cell_type": "code",
      "source": [
        "import pandas as pd\n",
        "import io\n",
        "import matplotlib.pyplot as plt\n",
        "import seaborn as sns\n",
        "\n",
        "def parse_text_table(table_text: str):\n",
        "  df = pd.read_csv(io.StringIO(table_text), sep='|', skiprows=[1], skipinitialspace=True)\n",
        "  df = df.drop(df.columns[[0, 2, 3, 4, 5, 6, 8, 10]], axis=1)\n",
        "  df.columns = [col.strip() for col in df.columns]\n",
        "  df['Tasks'] = df['Tasks'].str.strip()\n",
        "  df['Value'] = df['Value'].astype(float)\n",
        "  df['Stderr'] = df['Stderr'].astype(float)\n",
        "  return df"
      ],
      "metadata": {
        "id": "HZxinJZAf1zY"
      },
      "execution_count": 1,
      "outputs": []
    },
    {
      "cell_type": "code",
      "source": [
        "analysis_data = {\n",
        "    \"baseline\": \"\"\"|  Tasks   |Version|Filter|n-shot|Metric|   |Value |   |Stderr|\n",
        "|----------|------:|------|-----:|------|---|-----:|---|-----:|\n",
        "|boolq     |      2|none  |     0|acc   |↑  |0.5771|±  |0.0086|\n",
        "|winogrande|      1|none  |     0|acc   |↑  |0.5225|±  |0.0140|\"\"\",\n",
        "\n",
        "    \"quik_w8_a16\": \"\"\"|  Tasks   |Version|Filter|n-shot|Metric|   |Value |   |Stderr|\n",
        "|----------|------:|------|-----:|------|---|-----:|---|-----:|\n",
        "|boolq     |      2|none  |     0|acc   |↑  |0.5768|±  |0.0086|\n",
        "|winogrande|      1|none  |     0|acc   |↑  |0.5201|±  |0.0140|\"\"\",\n",
        "    \"quik_w4_a16\": \"\"\"|  Tasks   |Version|Filter|n-shot|Metric|   |Value |   |Stderr|\n",
        "|----------|------:|------|-----:|------|---|-----:|---|-----:|\n",
        "|boolq     |      2|none  |     0|acc   |↑  |0.5651|±  |0.0087|\n",
        "|winogrande|      1|none  |     0|acc   |↑  |0.5296|±  |0.0140|\"\"\",\n",
        "\n",
        "    \"sparsegpt_50_w16_a16\": \"\"\"|  Tasks   |Version|Filter|n-shot|Metric|   |Value |   |Stderr|\n",
        "|----------|------:|------|-----:|------|---|-----:|---|-----:|\n",
        "|boolq     |      2|none  |     0|acc   |↑  |0.5933|±  |0.0086|\n",
        "|winogrande|      1|none  |     0|acc   |↑  |0.5122|±  |0.0140|\"\"\",\n",
        "     \"sparsegpt_75_w16_a16\": \"\"\"|  Tasks   |Version|Filter|n-shot|Metric|   |Value |   |Stderr|\n",
        "|----------|------:|------|-----:|------|---|-----:|---|-----:|\n",
        "|boolq     |      2|none  |     0|acc   |↑  |0.3792|±  |0.0085|\n",
        "|winogrande|      1|none  |     0|acc   |↑  |0.5217|±  |0.0140|\"\"\",\n",
        "\n",
        "    \"gptq_w8_a16\": \"\"\"|  Tasks   |Version|Filter|n-shot|Metric|   |Value |   |Stderr|\n",
        "|----------|------:|------|-----:|------|---|-----:|---|-----:|\n",
        "|boolq     |      2|none  |     0|acc   |↑  |0.5758|±  |0.0086|\n",
        "|winogrande|      1|none  |     0|acc   |↑  |0.5249|±  |0.0140|\"\"\",\n",
        "    \"gptq_w4_a16\": \"\"\"|  Tasks   |Version|Filter|n-shot|Metric|   |Value |   |Stderr|\n",
        "|----------|------:|------|-----:|------|---|-----:|---|-----:|\n",
        "|boolq     |      2|none  |     0|acc   |↑  |0.5920|±  |0.0086|\n",
        "|winogrande|      1|none  |     0|acc   |↑  |0.5185|±  |0.0140|\"\"\",\n",
        "\n",
        "    \"wanda_50\": \"\"\"|  Tasks   |Version|Filter|n-shot|Metric|   |Value |   |Stderr|\n",
        "|----------|------:|------|-----:|------|---|-----:|---|-----:|\n",
        "|boolq     |      2|none  |     0|acc   |↑  |0.4933|±  |0.0087|\n",
        "|winogrande|      1|none  |     0|acc   |↑  |0.5004|±  |0.0141|\"\"\",\n",
        "    \"wanda_75\": \"\"\"|  Tasks   |Version|Filter|n-shot|Metric|   |Value |   |Stderr|\n",
        "|----------|------:|------|-----:|------|---|-----:|---|-----:|\n",
        "|boolq     |      2|none  |     0|acc   |↑  |0.5446|±  |0.0087|\n",
        "|winogrande|      1|none  |     0|acc   |↑  |0.5083|±  |0.0141|\"\"\",\n",
        "\n",
        "}"
      ],
      "metadata": {
        "id": "MWsN3d0iTDve"
      },
      "execution_count": 2,
      "outputs": []
    },
    {
      "cell_type": "code",
      "source": [
        "union_table = []\n",
        "for model, text_df in analysis_data.items():\n",
        "  parsed_df = parse_text_table(text_df)\n",
        "  parsed_df[\"model\"] = model\n",
        "  union_table.append(parsed_df)\n",
        "\n",
        "union_table = pd.concat(union_table, axis=0)\n",
        "union_table['model_type'] = union_table['model'].apply(lambda x: x.split(\"_\")[0])"
      ],
      "metadata": {
        "id": "vXtBWRLUf58C"
      },
      "execution_count": 3,
      "outputs": []
    },
    {
      "cell_type": "markdown",
      "source": [
        "График качества в зависимости от типа датасета. Внутри каждого подграфика цвет показывает тип квантизации, а порядок баров показывает степень сжатия этим методом в 2 и 4 раза соответственно"
      ],
      "metadata": {
        "id": "UG4Ls8vv4LUd"
      }
    },
    {
      "cell_type": "code",
      "source": [
        "fig, axes = plt.subplots(1, 2, figsize=(14, 6))\n",
        "sns.barplot(x=\"model\", y=\"Value\", data=union_table[union_table.Tasks == 'boolq'], hue=\"model_type\", ax=axes[0])\n",
        "sns.barplot(x=\"model\", y=\"Value\", data=union_table[union_table.Tasks == 'winogrande'], hue=\"model_type\", ax=axes[1])\n",
        "for ax in axes:\n",
        "    ax.set_xticklabels(ax.get_xticklabels(), rotation=30, ha='right');\n",
        "\n",
        "axes[0].set_title('boolq')\n",
        "axes[1].set_title('winogrande')"
      ],
      "metadata": {
        "colab": {
          "base_uri": "https://localhost:8080/",
          "height": 739
        },
        "id": "mFZpipAAi2yv",
        "outputId": "e95f8dc8-5151-4c35-a538-96a9dc200876"
      },
      "execution_count": 10,
      "outputs": [
        {
          "output_type": "stream",
          "name": "stderr",
          "text": [
            "<ipython-input-10-d9fcb7442e42>:5: UserWarning: set_ticklabels() should only be used with a fixed number of ticks, i.e. after set_ticks() or using a FixedLocator.\n",
            "  ax.set_xticklabels(ax.get_xticklabels(), rotation=30, ha='right');\n",
            "<ipython-input-10-d9fcb7442e42>:5: UserWarning: set_ticklabels() should only be used with a fixed number of ticks, i.e. after set_ticks() or using a FixedLocator.\n",
            "  ax.set_xticklabels(ax.get_xticklabels(), rotation=30, ha='right');\n"
          ]
        },
        {
          "output_type": "display_data",
          "data": {
            "text/plain": [
              "<Figure size 1400x600 with 2 Axes>"
            ],
            "image/png": "[encoded data removed]"
          },
          "metadata": {}
        }
      ]
    },
    {
      "cell_type": "markdown",
      "source": [
        "График, показывающий усредненное качество по 2 датасетам на каждый вариант сжатия и степень сжатия 2, 4 раз"
      ],
      "metadata": {
        "id": "43L6-REG4ne7"
      }
    },
    {
      "cell_type": "code",
      "source": [
        "plt.figure(figsize=(11, 6))\n",
        "avg_acc = union_table.groupby([\"model\", \"model_type\"], as_index=False)[\"Value\"].mean()\n",
        "plt.grid()\n",
        "sns.barplot(x=\"model\", y=\"Value\", data=avg_acc, hue=\"model_type\")\n",
        "plt.xticks(rotation=30, ha='right');"
      ],
      "metadata": {
        "id": "-_yWdB9Z4266",
        "outputId": "7e28acf9-0c28-4361-d626-2ff5dd42d732",
        "colab": {
          "base_uri": "https://localhost:8080/",
          "height": 622
        }
      },
      "execution_count": 20,
      "outputs": [
        {
          "output_type": "display_data",
          "data": {
            "text/plain": [
              "<Figure size 1100x600 with 1 Axes>"
            ],
            "image/png": "[encoded data removed]"
          },
          "metadata": {}
        }
      ]
    },
    {
      "cell_type": "markdown",
      "source": [
        "Представление графика выше в логарифмической шкале, чтобы лучше увидеть разницу"
      ],
      "metadata": {
        "id": "69CuJN_946IJ"
      }
    },
    {
      "cell_type": "code",
      "source": [
        "plt.figure(figsize=(11, 6))\n",
        "avg_acc = union_table.groupby([\"model\", \"model_type\"], as_index=False)[\"Value\"].mean()\n",
        "plt.grid()\n",
        "sns.barplot(x=\"model\", y=\"Value\", data=avg_acc, hue=\"model_type\")\n",
        "plt.yscale(\"log\")\n",
        "plt.xticks(rotation=30, ha='right');"
      ],
      "metadata": {
        "colab": {
          "base_uri": "https://localhost:8080/",
          "height": 625
        },
        "id": "rl_VqjrTke5T",
        "outputId": "fa9a99dc-d42b-4f88-9031-6a9ae5622585"
      },
      "execution_count": 17,
      "outputs": [
        {
          "output_type": "display_data",
          "data": {
            "text/plain": [
              "<Figure size 1100x600 with 1 Axes>"
            ],
            "image/png": "[encoded data removed]"
          },
          "metadata": {}
        }
      ]
    },
    {
      "cell_type": "markdown",
      "source": [
        "Табличное представление графика выше (без логарифмов)"
      ],
      "metadata": {
        "id": "lojCtbHT5Mgu"
      }
    },
    {
      "cell_type": "code",
      "source": [
        "avg_acc.drop(columns=['model_type'])"
      ],
      "metadata": {
        "colab": {
          "base_uri": "https://localhost:8080/",
          "height": 332
        },
        "id": "juDGeQCZo7HN",
        "outputId": "f01f48d7-bb8d-4a55-9911-344b931415e5"
      },
      "execution_count": 19,
      "outputs": [
        {
          "output_type": "execute_result",
          "data": {
            "text/plain": [
              "                  model    Value\n",
              "0              baseline  0.54980\n",
              "1           gptq_w4_a16  0.55525\n",
              "2           gptq_w8_a16  0.55035\n",
              "3           quik_w4_a16  0.54735\n",
              "4           quik_w8_a16  0.54845\n",
              "5  sparsegpt_50_w16_a16  0.55275\n",
              "6  sparsegpt_75_w16_a16  0.45045\n",
              "7              wanda_50  0.49685\n",
              "8              wanda_75  0.52645"
            ],
            "text/html": [
              "\n",
              "  <div id=\"df-976aeec8-415a-4a56-8829-044c603e6da1\" class=\"colab-df-container\">\n",
              "    <div>\n",
              "<style scoped>\n",
              "    .dataframe tbody tr th:only-of-type {\n",
              "        vertical-align: middle;\n",
              "    }\n",
              "\n",
              "    .dataframe tbody tr th {\n",
              "        vertical-align: top;\n",
              "    }\n",
              "\n",
              "    .dataframe thead th {\n",
              "        text-align: right;\n",
              "    }\n",
              "</style>\n",
              "<table border=\"1\" class=\"dataframe\">\n",
              "  <thead>\n",
              "    <tr style=\"text-align: right;\">\n",
              "      <th></th>\n",
              "      <th>model</th>\n",
              "      <th>Value</th>\n",
              "    </tr>\n",
              "  </thead>\n",
              "  <tbody>\n",
              "    <tr>\n",
              "      <th>0</th>\n",
              "      <td>baseline</td>\n",
              "      <td>0.54980</td>\n",
              "    </tr>\n",
              "    <tr>\n",
              "      <th>1</th>\n",
              "      <td>gptq_w4_a16</td>\n",
              "      <td>0.55525</td>\n",
              "    </tr>\n",
              "    <tr>\n",
              "      <th>2</th>\n",
              "      <td>gptq_w8_a16</td>\n",
              "      <td>0.55035</td>\n",
              "    </tr>\n",
              "    <tr>\n",
              "      <th>3</th>\n",
              "      <td>quik_w4_a16</td>\n",
              "      <td>0.54735</td>\n",
              "    </tr>\n",
              "    <tr>\n",
              "      <th>4</th>\n",
              "      <td>quik_w8_a16</td>\n",
              "      <td>0.54845</td>\n",
              "    </tr>\n",
              "    <tr>\n",
              "      <th>5</th>\n",
              "      <td>sparsegpt_50_w16_a16</td>\n",
              "      <td>0.55275</td>\n",
              "    </tr>\n",
              "    <tr>\n",
              "      <th>6</th>\n",
              "      <td>sparsegpt_75_w16_a16</td>\n",
              "      <td>0.45045</td>\n",
              "    </tr>\n",
              "    <tr>\n",
              "      <th>7</th>\n",
              "      <td>wanda_50</td>\n",
              "      <td>0.49685</td>\n",
              "    </tr>\n",
              "    <tr>\n",
              "      <th>8</th>\n",
              "      <td>wanda_75</td>\n",
              "      <td>0.52645</td>\n",
              "    </tr>\n",
              "  </tbody>\n",
              "</table>\n",
              "</div>\n",
              "    <div class=\"colab-df-buttons\">\n",
              "\n",
              "  <div class=\"colab-df-container\">\n",
              "    <button class=\"colab-df-convert\" onclick=\"convertToInteractive('df-976aeec8-415a-4a56-8829-044c603e6da1')\"\n",
              "            title=\"Convert this dataframe to an interactive table.\"\n",
              "            style=\"display:none;\">\n",
              "\n",
              "  <svg xmlns=\"http://www.w3.org/2000/svg\" height=\"24px\" viewBox=\"0 -960 960 960\">\n",
              "    <path d=\"M120-120v-720h720v720H120Zm60-500h600v-160H180v160Zm220 220h160v-160H400v160Zm0 220h160v-160H400v160ZM180-400h160v-160H180v160Zm440 0h160v-160H620v160ZM180-180h160v-160H180v160Zm440 0h160v-160H620v160Z\"/>\n",
              "  </svg>\n",
              "    </button>\n",
              "\n",
              "  <style>\n",
              "    .colab-df-container {\n",
              "      display:flex;\n",
              "      gap: 12px;\n",
              "    }\n",
              "\n",
              "    .colab-df-convert {\n",
              "      background-color: #E8F0FE;\n",
              "      border: none;\n",
              "      border-radius: 50%;\n",
              "      cursor: pointer;\n",
              "      display: none;\n",
              "      fill: #1967D2;\n",
              "      height: 32px;\n",
              "      padding: 0 0 0 0;\n",
              "      width: 32px;\n",
              "    }\n",
              "\n",
              "    .colab-df-convert:hover {\n",
              "      background-color: #E2EBFA;\n",
              "      box-shadow: 0px 1px 2px rgba(60, 64, 67, 0.3), 0px 1px 3px 1px rgba(60, 64, 67, 0.15);\n",
              "      fill: #174EA6;\n",
              "    }\n",
              "\n",
              "    .colab-df-buttons div {\n",
              "      margin-bottom: 4px;\n",
              "    }\n",
              "\n",
              "    [theme=dark] .colab-df-convert {\n",
              "      background-color: #3B4455;\n",
              "      fill: #D2E3FC;\n",
              "    }\n",
              "\n",
              "    [theme=dark] .colab-df-convert:hover {\n",
              "      background-color: #434B5C;\n",
              "      box-shadow: 0px 1px 3px 1px rgba(0, 0, 0, 0.15);\n",
              "      filter: drop-shadow(0px 1px 2px rgba(0, 0, 0, 0.3));\n",
              "      fill: #FFFFFF;\n",
              "    }\n",
              "  </style>\n",
              "\n",
              "    <script>\n",
              "      const buttonEl =\n",
              "        document.querySelector('#df-976aeec8-415a-4a56-8829-044c603e6da1 button.colab-df-convert');\n",
              "      buttonEl.style.display =\n",
              "        google.colab.kernel.accessAllowed ? 'block' : 'none';\n",
              "\n",
              "      async function convertToInteractive(key) {\n",
              "        const element = document.querySelector('#df-976aeec8-415a-4a56-8829-044c603e6da1');\n",
              "        const dataTable =\n",
              "          await google.colab.kernel.invokeFunction('convertToInteractive',\n",
              "                                                    [key], {});\n",
              "        if (!dataTable) return;\n",
              "\n",
              "        const docLinkHtml = 'Like what you see? Visit the ' +\n",
              "          '<a target=\"_blank\" href=https://colab.research.google.com/notebooks/data_table.ipynb>data table notebook</a>'\n",
              "          + ' to learn more about interactive tables.';\n",
              "        element.innerHTML = '';\n",
              "        dataTable['output_type'] = 'display_data';\n",
              "        await google.colab.output.renderOutput(dataTable, element);\n",
              "        const docLink = document.createElement('div');\n",
              "        docLink.innerHTML = docLinkHtml;\n",
              "        element.appendChild(docLink);\n",
              "      }\n",
              "    </script>\n",
              "  </div>\n",
              "\n",
              "\n",
              "<div id=\"df-7a605c6d-56f7-49db-b393-fd3e6c297a78\">\n",
              "  <button class=\"colab-df-quickchart\" onclick=\"quickchart('df-7a605c6d-56f7-49db-b393-fd3e6c297a78')\"\n",
              "            title=\"Suggest charts\"\n",
              "            style=\"display:none;\">\n",
              "\n",
              "<svg xmlns=\"http://www.w3.org/2000/svg\" height=\"24px\"viewBox=\"0 0 24 24\"\n",
              "     width=\"24px\">\n",
              "    <g>\n",
              "        <path d=\"M19 3H5c-1.1 0-2 .9-2 2v14c0 1.1.9 2 2 2h14c1.1 0 2-.9 2-2V5c0-1.1-.9-2-2-2zM9 17H7v-7h2v7zm4 0h-2V7h2v10zm4 0h-2v-4h2v4z\"/>\n",
              "    </g>\n",
              "</svg>\n",
              "  </button>\n",
              "\n",
              "<style>\n",
              "  .colab-df-quickchart {\n",
              "      --bg-color: #E8F0FE;\n",
              "      --fill-color: #1967D2;\n",
              "      --hover-bg-color: #E2EBFA;\n",
              "      --hover-fill-color: #174EA6;\n",
              "      --disabled-fill-color: #AAA;\n",
              "      --disabled-bg-color: #DDD;\n",
              "  }\n",
              "\n",
              "  [theme=dark] .colab-df-quickchart {\n",
              "      --bg-color: #3B4455;\n",
              "      --fill-color: #D2E3FC;\n",
              "      --hover-bg-color: #434B5C;\n",
              "      --hover-fill-color: #FFFFFF;\n",
              "      --disabled-bg-color: #3B4455;\n",
              "      --disabled-fill-color: #666;\n",
              "  }\n",
              "\n",
              "  .colab-df-quickchart {\n",
              "    background-color: var(--bg-color);\n",
              "    border: none;\n",
              "    border-radius: 50%;\n",
              "    cursor: pointer;\n",
              "    display: none;\n",
              "    fill: var(--fill-color);\n",
              "    height: 32px;\n",
              "    padding: 0;\n",
              "    width: 32px;\n",
              "  }\n",
              "\n",
              "  .colab-df-quickchart:hover {\n",
              "    background-color: var(--hover-bg-color);\n",
              "    box-shadow: 0 1px 2px rgba(60, 64, 67, 0.3), 0 1px 3px 1px rgba(60, 64, 67, 0.15);\n",
              "    fill: var(--button-hover-fill-color);\n",
              "  }\n",
              "\n",
              "  .colab-df-quickchart-complete:disabled,\n",
              "  .colab-df-quickchart-complete:disabled:hover {\n",
              "    background-color: var(--disabled-bg-color);\n",
              "    fill: var(--disabled-fill-color);\n",
              "    box-shadow: none;\n",
              "  }\n",
              "\n",
              "  .colab-df-spinner {\n",
              "    border: 2px solid var(--fill-color);\n",
              "    border-color: transparent;\n",
              "    border-bottom-color: var(--fill-color);\n",
              "    animation:\n",
              "      spin 1s steps(1) infinite;\n",
              "  }\n",
              "\n",
              "  @keyframes spin {\n",
              "    0% {\n",
              "      border-color: transparent;\n",
              "      border-bottom-color: var(--fill-color);\n",
              "      border-left-color: var(--fill-color);\n",
              "    }\n",
              "    20% {\n",
              "      border-color: transparent;\n",
              "      border-left-color: var(--fill-color);\n",
              "      border-top-color: var(--fill-color);\n",
              "    }\n",
              "    30% {\n",
              "      border-color: transparent;\n",
              "      border-left-color: var(--fill-color);\n",
              "      border-top-color: var(--fill-color);\n",
              "      border-right-color: var(--fill-color);\n",
              "    }\n",
              "    40% {\n",
              "      border-color: transparent;\n",
              "      border-right-color: var(--fill-color);\n",
              "      border-top-color: var(--fill-color);\n",
              "    }\n",
              "    60% {\n",
              "      border-color: transparent;\n",
              "      border-right-color: var(--fill-color);\n",
              "    }\n",
              "    80% {\n",
              "      border-color: transparent;\n",
              "      border-right-color: var(--fill-color);\n",
              "      border-bottom-color: var(--fill-color);\n",
              "    }\n",
              "    90% {\n",
              "      border-color: transparent;\n",
              "      border-bottom-color: var(--fill-color);\n",
              "    }\n",
              "  }\n",
              "</style>\n",
              "\n",
              "  <script>\n",
              "    async function quickchart(key) {\n",
              "      const quickchartButtonEl =\n",
              "        document.querySelector('#' + key + ' button');\n",
              "      quickchartButtonEl.disabled = true;  // To prevent multiple clicks.\n",
              "      quickchartButtonEl.classList.add('colab-df-spinner');\n",
              "      try {\n",
              "        const charts = await google.colab.kernel.invokeFunction(\n",
              "            'suggestCharts', [key], {});\n",
              "      } catch (error) {\n",
              "        console.error('Error during call to suggestCharts:', error);\n",
              "      }\n",
              "      quickchartButtonEl.classList.remove('colab-df-spinner');\n",
              "      quickchartButtonEl.classList.add('colab-df-quickchart-complete');\n",
              "    }\n",
              "    (() => {\n",
              "      let quickchartButtonEl =\n",
              "        document.querySelector('#df-7a605c6d-56f7-49db-b393-fd3e6c297a78 button');\n",
              "      quickchartButtonEl.style.display =\n",
              "        google.colab.kernel.accessAllowed ? 'block' : 'none';\n",
              "    })();\n",
              "  </script>\n",
              "</div>\n",
              "    </div>\n",
              "  </div>\n"
            ],
            "application/vnd.google.colaboratory.intrinsic+json": {
              "type": "dataframe",
              "summary": "{\n  \"name\": \"avg_acc\",\n  \"rows\": 9,\n  \"fields\": [\n    {\n      \"column\": \"model\",\n      \"properties\": {\n        \"dtype\": \"string\",\n        \"num_unique_values\": 9,\n        \"samples\": [\n          \"wanda_50\",\n          \"gptq_w4_a16\",\n          \"sparsegpt_50_w16_a16\"\n        ],\n        \"semantic_type\": \"\",\n        \"description\": \"\"\n      }\n    },\n    {\n      \"column\": \"Value\",\n      \"properties\": {\n        \"dtype\": \"number\",\n        \"std\": 0.03541866072817799,\n        \"min\": 0.45045,\n        \"max\": 0.55525,\n        \"num_unique_values\": 9,\n        \"samples\": [\n          0.49685,\n          0.55525,\n          0.5527500000000001\n        ],\n        \"semantic_type\": \"\",\n        \"description\": \"\"\n      }\n    }\n  ]\n}"
            }
          },
          "metadata": {},
          "execution_count": 19
        }
      ]
    },
    {
      "cell_type": "markdown",
      "source": [
        "# Вывод по результатам анализа:\n",
        "- самый неэффективный способ сжатия - это sparsegpt, потому что в случае сжатия в 4 раза (`sparsegpt_75_w16_a16`) качество драматически падает на `boolq` задаче, хотя при сжатии в 2 раза `sparsegpt_50_w16_a16` эффект не такой заметный. Также довольно плохо работает метод `wanda` по сравнению с другими способами, качество падает как при сжатии в 2 раза (`wanda_50`), так и в 4 раза (`wanda_75`). В целом это говорит о том, что спарсификация довольно заметно просаживает качество по сравнению с квантизацией\n",
        "- самый эффективный вариант сжатия - это `gptq`. При сжатие как в 2 (`gptq_w4_a16`), так и в 4 (`gptq_w8_a16`) раза качество остается самым высоким на обоих вариантов заданий, более того оно растет по сравнению с `baseline` вариантом LLM, квантизация в данной конфигурации работает как регуляризация для языковой модели. Другой вариант квантизации `quik` принципиально не хуже `gptq` и сравним по качеству в целом.\n",
        "\n",
        "Т.о. самый эффективный вариант сжатия при сохранении (или даже улучшении) качества - квантизация"
      ],
      "metadata": {
        "id": "OPv8svA9o2Aj"
      }
    },
    {
      "cell_type": "code",
      "source": [],
      "metadata": {
        "id": "f_rEHvv27oMC"
      },
      "execution_count": 21,
      "outputs": []
    }
  ],
  "metadata": {
    "colab": {
      "provenance": []
    },
    "kernelspec": {
      "display_name": "Python 3",
      "name": "python3"
    },
    "language_info": {
      "codemirror_mode": {
        "name": "ipython",
        "version": 3
      },
      "file_extension": ".py",
      "mimetype": "text/x-python",
      "name": "python",
      "nbconvert_exporter": "python",
      "pygments_lexer": "ipython3",
      "version": "3.10.13"
    }
  },
  "nbformat": 4,
  "nbformat_minor": 0
}